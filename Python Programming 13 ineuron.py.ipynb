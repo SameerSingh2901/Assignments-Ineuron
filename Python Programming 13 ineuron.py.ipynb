{
 "cells": [
  {
   "cell_type": "markdown",
   "id": "33810860",
   "metadata": {},
   "source": [
    "Question 1)\n",
    "Write a program that calculates and prints the value according to the given formula:\n",
    "Q = Square root of [(2 * C * D)/H]\n",
    "\n",
    "Following are the fixed values of C and H:\n",
    "C is 50. H is 30.\n",
    "\n",
    "D is the variable whose values should be input to your program in a comma-separated\n",
    "sequence."
   ]
  },
  {
   "cell_type": "code",
   "execution_count": 1,
   "id": "779ce780",
   "metadata": {},
   "outputs": [
    {
     "name": "stdout",
     "output_type": "stream",
     "text": [
      "Enter comma-separated sequence of D values: 10,5,2,5\n",
      "The value of Q for D = 10.0 is 5.773502691896258\n",
      "The value of Q for D = 5.0 is 4.08248290463863\n",
      "The value of Q for D = 2.0 is 2.581988897471611\n",
      "The value of Q for D = 5.0 is 4.08248290463863\n"
     ]
    }
   ],
   "source": [
    "import math\n",
    "\n",
    "# Function to calculate Q\n",
    "def calculate_Q(D):\n",
    "    C = 50\n",
    "    H = 30\n",
    "    Q = math.sqrt((2 * C * D) / H)\n",
    "    return Q\n",
    "\n",
    "# getting input of comma-separated values\n",
    "D_values = input(\"Enter comma-separated sequence of D values: \").split(\",\")\n",
    "\n",
    "# Calculate and print Q for each D value\n",
    "for D in D_values:\n",
    "    D = float(D.strip())\n",
    "    Q = calculate_Q(D)\n",
    "    print(f\"The value of Q for D = {D} is {Q}\")"
   ]
  },
  {
   "cell_type": "markdown",
   "id": "1c3303ef",
   "metadata": {},
   "source": [
    "Question 2:\n",
    "Write a program which takes 2 digits, X,Y as input and generates a 2-dimensional array. The\n",
    "element value in the i-th row and j-th column of the array should be i*j.\n",
    "\n",
    "Note: i=0,1.., X-1; j=0,1,Y-1."
   ]
  },
  {
   "cell_type": "code",
   "execution_count": 2,
   "id": "cf7c947e",
   "metadata": {},
   "outputs": [
    {
     "name": "stdout",
     "output_type": "stream",
     "text": [
      "Enter the value for X: 3\n",
      "Enter the value for Y: 5\n",
      "[0, 0, 0, 0, 0]\n",
      "[0, 1, 2, 3, 4]\n",
      "[0, 2, 4, 6, 8]\n"
     ]
    }
   ],
   "source": [
    "# Get input values for X and Y\n",
    "X = int(input(\"Enter the value for X: \"))\n",
    "Y = int(input(\"Enter the value for Y: \"))\n",
    "\n",
    "# Initialize the 2-dimensional array\n",
    "array = [[0 for j in range(Y)] for i in range(X)]\n",
    "\n",
    "# Populate the array using the formula i*j\n",
    "for i in range(X):\n",
    "    for j in range(Y):\n",
    "        array[i][j] = i * j\n",
    "\n",
    "# Print the array\n",
    "for row in array:\n",
    "    print(row)"
   ]
  },
  {
   "cell_type": "markdown",
   "id": "735000a1",
   "metadata": {},
   "source": [
    "Question 3:\n",
    "Write a program that accepts a comma separated sequence of words as input and prints the\n",
    "words in a comma-separated sequence after sorting them alphabetically."
   ]
  },
  {
   "cell_type": "code",
   "execution_count": 3,
   "id": "cf53fa03",
   "metadata": {},
   "outputs": [
    {
     "name": "stdout",
     "output_type": "stream",
     "text": [
      "Enter a comma-separated sequence of words: sameer,riddhi,aman,nirmal\n",
      "Sorted sequence of words: aman, nirmal, riddhi, sameer\n"
     ]
    }
   ],
   "source": [
    "# Get input sequence of words\n",
    "word_sequence = input(\"Enter a comma-separated sequence of words: \")\n",
    "\n",
    "# Split the words and remove leading/trailing whitespaces\n",
    "words = [word for word in word_sequence.split(\",\")]\n",
    "\n",
    "# Sort the words alphabetically\n",
    "sorted_words = sorted(words)\n",
    "\n",
    "# Print the sorted words in a comma-separated sequence\n",
    "sorted_sequence = \", \".join(sorted_words)\n",
    "print(\"Sorted sequence of words:\", sorted_sequence)"
   ]
  },
  {
   "cell_type": "markdown",
   "id": "369105a8",
   "metadata": {},
   "source": [
    "Question 4:\n",
    "Write a program that accepts a sequence of whitespace separated words as input and prints\n",
    "the words after removing all duplicate words and sorting them alphanumerically."
   ]
  },
  {
   "cell_type": "code",
   "execution_count": 4,
   "id": "c56b1089",
   "metadata": {},
   "outputs": [
    {
     "name": "stdout",
     "output_type": "stream",
     "text": [
      "Enter a whitespace-separated sequence of words: sameer riddhi aman nirmal\n",
      "Sorted sequence of words: aman nirmal riddhi sameer\n"
     ]
    }
   ],
   "source": [
    "# Get input sequence of words\n",
    "word_sequence = input(\"Enter a whitespace-separated sequence of words: \")\n",
    "\n",
    "# Split the words and remove leading/trailing whitespaces\n",
    "words = word_sequence.split()\n",
    "\n",
    "# Remove duplicate words\n",
    "unique_words = list(set(words))\n",
    "\n",
    "# Sort the unique words alphanumerically\n",
    "sorted_words = sorted(unique_words)\n",
    "\n",
    "# Print the sorted words\n",
    "print(\"Sorted sequence of words:\", \" \".join(sorted_words))"
   ]
  },
  {
   "cell_type": "markdown",
   "id": "e4b6aa59",
   "metadata": {},
   "source": [
    "Question 5:\n",
    "Write a program that accepts a sentence and calculate the number of letters and digits."
   ]
  },
  {
   "cell_type": "code",
   "execution_count": 5,
   "id": "a768bdb2",
   "metadata": {},
   "outputs": [
    {
     "name": "stdout",
     "output_type": "stream",
     "text": [
      "Enter a sentence: my name is sameer 12345\n",
      "Number of letters: 14\n",
      "Number of digits: 5\n"
     ]
    }
   ],
   "source": [
    "sentence = input(\"Enter a sentence: \")\n",
    "\n",
    "letter_count = 0\n",
    "digit_count = 0\n",
    "\n",
    "for char in sentence:\n",
    "    if char.isalpha():\n",
    "        letter_count += 1\n",
    "    elif char.isdigit():\n",
    "        digit_count += 1\n",
    "\n",
    "print(\"Number of letters:\", letter_count)\n",
    "print(\"Number of digits:\", digit_count)"
   ]
  },
  {
   "cell_type": "markdown",
   "id": "f73cbaf4",
   "metadata": {},
   "source": [
    "Question 6:\n",
    "A website requires the users to input username and password to register. Write a program to\n",
    "check the validity of password input by users.\n",
    "\n",
    "Following are the criteria for checking the password:\n",
    "1. At least 1 letter between [a-z]\n",
    "2. At least 1 number between [0-9]\n",
    "1. At least 1 letter between [A-Z]\n",
    "3. At least 1 character from [$#@]\n",
    "4. Minimum length of transaction password: 6\n",
    "5. Maximum length of transaction password: 12\n",
    "                              \n",
    "Your program should accept a sequence of comma separated passwords and will check them\n",
    "according to the above criteria. Passwords that match the criteria are to be printed, each\n",
    "separated by a comma."
   ]
  },
  {
   "cell_type": "code",
   "execution_count": 6,
   "id": "4024840c",
   "metadata": {},
   "outputs": [
    {
     "name": "stdout",
     "output_type": "stream",
     "text": [
      "Enter a comma-separated sequence of passwords: ABd1234@1,a F1#,2w3E*,2We3345\n",
      "Valid passwords: ABd1234@1\n"
     ]
    }
   ],
   "source": [
    "import re\n",
    "\n",
    "# Function to check password validity\n",
    "def check_password(password):\n",
    "    if len(password) < 6 or len(password) > 12:\n",
    "        return False\n",
    "    if not re.search(r\"[a-z]\", password):\n",
    "        return False\n",
    "    if not re.search(r\"[A-Z]\", password):\n",
    "        return False\n",
    "    if not re.search(r\"\\d\", password):\n",
    "        return False\n",
    "    if not re.search(r\"[$#@]\", password):\n",
    "        return False\n",
    "    return True\n",
    "\n",
    "# Get input sequence of passwords\n",
    "passwords = input(\"Enter a comma-separated sequence of passwords: \").split(\",\")\n",
    "\n",
    "# Check and print valid passwords\n",
    "valid_passwords = [password for password in passwords if check_password(password)]\n",
    "valid_passwords_str = \", \".join(valid_passwords)\n",
    "print(\"Valid passwords:\", valid_passwords_str)"
   ]
  }
 ],
 "metadata": {
  "kernelspec": {
   "display_name": "Python 3 (ipykernel)",
   "language": "python",
   "name": "python3"
  },
  "language_info": {
   "codemirror_mode": {
    "name": "ipython",
    "version": 3
   },
   "file_extension": ".py",
   "mimetype": "text/x-python",
   "name": "python",
   "nbconvert_exporter": "python",
   "pygments_lexer": "ipython3",
   "version": "3.9.12"
  }
 },
 "nbformat": 4,
 "nbformat_minor": 5
}
