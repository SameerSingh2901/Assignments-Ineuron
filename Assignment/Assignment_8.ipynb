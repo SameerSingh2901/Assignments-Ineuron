{
 "cells": [
  {
   "cell_type": "markdown",
   "id": "aca60607",
   "metadata": {},
   "source": [
    "#### Ques 1. Is the Python Standard Library included with PyInputPlus?"
   ]
  },
  {
   "cell_type": "markdown",
   "id": "d0134165",
   "metadata": {},
   "source": [
    "Answer: No, PyInputPlus is not a part of Python Standard Library, it needs to be installed explicitly using the command !pip install PyInputPlus"
   ]
  },
  {
   "cell_type": "markdown",
   "id": "79c65360",
   "metadata": {},
   "source": [
    "#### Ques 2. Why is PyInputPlus commonly imported with import pyinputplus as pypi?"
   ]
  },
  {
   "cell_type": "markdown",
   "id": "fa4d08a6",
   "metadata": {},
   "source": [
    "Answer: You can import the module with import pyinputplus as pyip so that you can enter a shorter name when calling the module's functions."
   ]
  },
  {
   "cell_type": "markdown",
   "id": "b1472989",
   "metadata": {},
   "source": [
    "#### Ques 3. How do you distinguish between inputInt() and inputFloat()?"
   ]
  },
  {
   "cell_type": "markdown",
   "id": "1ab982f1",
   "metadata": {},
   "source": [
    "Answer: inputInt() function Accepts an integer value. This also takes additional parameters min, max, greaterThan and lessThan for bounds. And it always returns an int.\n",
    "\n",
    "Whereas inputFloat() function Accepts a floating-point numeric value. this also takes additional min, max, greaterThan and lessThan parameters. and always returns a float."
   ]
  },
  {
   "cell_type": "markdown",
   "id": "f52098b7",
   "metadata": {},
   "source": [
    "#### Ques 4. Using PyInputPlus, how do you ensure that the user enters a whole number between 0 and 99?"
   ]
  },
  {
   "cell_type": "markdown",
   "id": "b021dfb6",
   "metadata": {},
   "source": [
    "Answer: PyInputPlus module provides a function called as inputInt() which only returns only integer values. In order to restrict the input between 0 and 99, I'll use parameters like min & max to ensure that user enters the values between the defined range only."
   ]
  },
  {
   "cell_type": "code",
   "execution_count": 1,
   "id": "77748424",
   "metadata": {},
   "outputs": [
    {
     "name": "stdout",
     "output_type": "stream",
     "text": [
      "Enter a number: 5\n",
      "5\n"
     ]
    }
   ],
   "source": [
    "import pyinputplus as pyip\n",
    "wholenumber = pyip.inputInt(prompt='Enter a number: ', min=0, max=100)\n",
    "print(wholenumber)"
   ]
  },
  {
   "cell_type": "markdown",
   "id": "a98880a9",
   "metadata": {},
   "source": [
    "#### Ques 5. What is transferred to the keyword arguments allowRegexes and blockRegexes?"
   ]
  },
  {
   "cell_type": "markdown",
   "id": "c0c3bc6e",
   "metadata": {},
   "source": [
    "Answer: We can use allowRegexes and blockRegexes keyword arguments to take list of regular expression strings to determine what the pyinputplus function will reject or accept valid input."
   ]
  },
  {
   "cell_type": "markdown",
   "id": "0b2f8ec0",
   "metadata": {},
   "source": [
    "#### Ques 6. If a blank input is entered three times, what does inputStr(limit=3) do?"
   ]
  },
  {
   "cell_type": "markdown",
   "id": "439ea430",
   "metadata": {},
   "source": [
    "Answer: The statement inputStr(limit=3) will throw two exceptions ValidationException and RetryLimitException. The first exception is thrown because blank values are not allowed by inputStr() function by default. If we want to consider blank values as valid input, we have to set blank=True.\n",
    "\n",
    "The second exception is occured because we have reached the max limit we have specified by using limit parameter. inorder to avoid this exception we can use default parameter to return a default value when max limit is reached."
   ]
  },
  {
   "cell_type": "markdown",
   "id": "4a3dbaa1",
   "metadata": {},
   "source": [
    "#### Ques 7. If blank input is entered three times, what does inputStr(limit=3, default=\"hello\") do?"
   ]
  },
  {
   "cell_type": "markdown",
   "id": "5e27a071",
   "metadata": {},
   "source": [
    "Answer: Since the default parameter is set to hello. After blank input is entered three times instead of raising RetryLimitException exception. The function will return hello as response to the calling function."
   ]
  }
 ],
 "metadata": {
  "kernelspec": {
   "display_name": "Python 3 (ipykernel)",
   "language": "python",
   "name": "python3"
  },
  "language_info": {
   "codemirror_mode": {
    "name": "ipython",
    "version": 3
   },
   "file_extension": ".py",
   "mimetype": "text/x-python",
   "name": "python",
   "nbconvert_exporter": "python",
   "pygments_lexer": "ipython3",
   "version": "3.9.12"
  }
 },
 "nbformat": 4,
 "nbformat_minor": 5
}
