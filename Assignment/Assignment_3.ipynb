{
 "cells": [
  {
   "cell_type": "markdown",
   "id": "1ae96d48",
   "metadata": {},
   "source": [
    "##### Ques 1. Why are functions advantageous to have in your programs?"
   ]
  },
  {
   "cell_type": "raw",
   "id": "0deabaae",
   "metadata": {},
   "source": [
    "Answer:\n",
    "Functions reduce the need for duplicate code. This makes programs shorter, easier to read, and easier to update. The main advantage of functions is code Reusability."
   ]
  },
  {
   "cell_type": "markdown",
   "id": "08dd3854",
   "metadata": {},
   "source": [
    "##### Ques 2. When does the code in a function run: when it's specified or when it's called?"
   ]
  },
  {
   "cell_type": "raw",
   "id": "1fd5fc78",
   "metadata": {},
   "source": [
    "Answer: \n",
    "The code in a function executes when the function is called, not when the function is specified."
   ]
  },
  {
   "cell_type": "markdown",
   "id": "7de53460",
   "metadata": {},
   "source": [
    "##### Ques 3. What statement creates a function?"
   ]
  },
  {
   "cell_type": "raw",
   "id": "2e462e1b",
   "metadata": {},
   "source": [
    "Answer: The def statement defines a function.\n",
    "Syntax:\n",
    "def function_name(parameters):\n",
    "    ----body----\n",
    "    return value"
   ]
  },
  {
   "cell_type": "markdown",
   "id": "3855d6a9",
   "metadata": {},
   "source": [
    "##### Ques 4. What is the difference between a function and a function call?"
   ]
  },
  {
   "cell_type": "raw",
   "id": "fb619eb8",
   "metadata": {},
   "source": [
    "Answer:\n",
    "A function is procedure to achieve a particular result. while function call is using this function to achive that task. Using a function to do a particular task any point in program is called as function call."
   ]
  },
  {
   "cell_type": "markdown",
   "id": "461c5f80",
   "metadata": {},
   "source": [
    "##### Ques 5. How many global scopes are there in a Python program? How many local scopes?"
   ]
  },
  {
   "cell_type": "raw",
   "id": "d315ac34",
   "metadata": {},
   "source": [
    "Answer:\n",
    "There is one global scope, and a local scope is created whenever a function is called."
   ]
  },
  {
   "cell_type": "markdown",
   "id": "da63512b",
   "metadata": {},
   "source": [
    "##### Ques 6. What happens to variables in a local scope when the function call returns?"
   ]
  },
  {
   "cell_type": "raw",
   "id": "5e0daf05",
   "metadata": {},
   "source": [
    "Answer:\n",
    "When a function returns, the local scope is destroyed, and all the variables in it are forgotten."
   ]
  },
  {
   "cell_type": "markdown",
   "id": "10199c67",
   "metadata": {},
   "source": [
    "##### Ques 7. What is the concept of a return value? Is it possible to have a return value in an expression?"
   ]
  },
  {
   "cell_type": "raw",
   "id": "f04e3213",
   "metadata": {},
   "source": [
    "Answer:\n",
    "A return value is the value that a function call evaluates to. Like any value, a return value can be used as part of an expression."
   ]
  },
  {
   "cell_type": "markdown",
   "id": "dd005265",
   "metadata": {},
   "source": [
    "##### Ques 8. If a function does not have a return statement, what is the return value of a call to that function?"
   ]
  },
  {
   "cell_type": "raw",
   "id": "d4ff27ab",
   "metadata": {},
   "source": [
    "Answer:\n",
    "If there is no return statement for a function, its return value is None."
   ]
  },
  {
   "cell_type": "markdown",
   "id": "47a2e415",
   "metadata": {},
   "source": [
    "##### Ques 9. How do you make a function variable refer to the global variable?"
   ]
  },
  {
   "cell_type": "raw",
   "id": "d5b1f7c0",
   "metadata": {},
   "source": [
    "Answer:\n",
    "A global statement will force a variable in a function to refer to the global variable. If you want to refer to a global variable in a function, you can use the global keyword to declare which variables are global."
   ]
  },
  {
   "cell_type": "markdown",
   "id": "a1f9bbfe",
   "metadata": {},
   "source": [
    "##### Ques 10. What is the data type of None?"
   ]
  },
  {
   "cell_type": "raw",
   "id": "7e5ee615",
   "metadata": {},
   "source": [
    "Answer:\n",
    "The data type of None is NoneType."
   ]
  },
  {
   "cell_type": "markdown",
   "id": "5995eac7",
   "metadata": {},
   "source": [
    "##### Ques 11. What does the sentence import areallyourpetsnamederic do?"
   ]
  },
  {
   "cell_type": "raw",
   "id": "936e7e0d",
   "metadata": {},
   "source": [
    "Answer:\n",
    "That import statement imports a module named areallyourpetsnamederic."
   ]
  },
  {
   "cell_type": "markdown",
   "id": "7beb0f17",
   "metadata": {},
   "source": [
    "##### Ques 12. If you had a bacon() feature in a spam module, what would you call it after importing spam?"
   ]
  },
  {
   "cell_type": "raw",
   "id": "60b2dccf",
   "metadata": {},
   "source": [
    "Answer:\n",
    "This function can be called with spam.bacon()."
   ]
  },
  {
   "cell_type": "markdown",
   "id": "bdab6069",
   "metadata": {},
   "source": [
    "##### Ques 13. What can you do to save a programme from crashing if it encounters an error?"
   ]
  },
  {
   "cell_type": "raw",
   "id": "e9d295c2",
   "metadata": {},
   "source": [
    "Answer:\n",
    "Place the line of code that might cause an error in a try clause and use except block to handle the error."
   ]
  },
  {
   "cell_type": "markdown",
   "id": "611bc4c5",
   "metadata": {},
   "source": [
    "##### Ques 14. What is the purpose of the try clause? What is the purpose of the except clause?"
   ]
  },
  {
   "cell_type": "raw",
   "id": "30bc39eb",
   "metadata": {},
   "source": [
    "Answer:\n",
    "The code that could potentially cause an error goes in the try clause. The code that executes if an error happens goes in the except clause."
   ]
  }
 ],
 "metadata": {
  "kernelspec": {
   "display_name": "Python 3 (ipykernel)",
   "language": "python",
   "name": "python3"
  },
  "language_info": {
   "codemirror_mode": {
    "name": "ipython",
    "version": 3
   },
   "file_extension": ".py",
   "mimetype": "text/x-python",
   "name": "python",
   "nbconvert_exporter": "python",
   "pygments_lexer": "ipython3",
   "version": "3.9.12"
  }
 },
 "nbformat": 4,
 "nbformat_minor": 5
}
