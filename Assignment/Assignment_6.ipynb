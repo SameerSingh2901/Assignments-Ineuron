{
 "cells": [
  {
   "cell_type": "markdown",
   "id": "133705d4",
   "metadata": {},
   "source": [
    "#### Ques 1. What are escape characters, and how do you use them?"
   ]
  },
  {
   "cell_type": "raw",
   "id": "389341ea",
   "metadata": {},
   "source": [
    "Answers: \n",
    "Escape characters represent characters in string values that would otherwise be difficult or impossible to type into code. We can use the backslash character to escape a single character or symbol.\n",
    "example: \\t, \\n"
   ]
  },
  {
   "cell_type": "markdown",
   "id": "a242e7c5",
   "metadata": {},
   "source": [
    "#### Ques 2. What do the escape characters n and t stand for?"
   ]
  },
  {
   "cell_type": "raw",
   "id": "35a2ba50",
   "metadata": {},
   "source": [
    "Answers:\n",
    "\\n is a newline, \\t is a tab."
   ]
  },
  {
   "cell_type": "markdown",
   "id": "01171f14",
   "metadata": {},
   "source": [
    "#### Ques 3. What is the way to include backslash characters in a string?"
   ]
  },
  {
   "cell_type": "raw",
   "id": "7295ed6b",
   "metadata": {},
   "source": [
    "Answers:\n",
    "The \\\\ escape character will represent the backslash character in a string."
   ]
  },
  {
   "cell_type": "markdown",
   "id": "925600fe",
   "metadata": {},
   "source": [
    "#### Ques 4. The string Howl's Moving Castle is a correct value. Why isn't the single quote character in the word Howl's not escaped a problem?"
   ]
  },
  {
   "cell_type": "raw",
   "id": "8a3a8aae",
   "metadata": {},
   "source": [
    "Answers:\n",
    "The string \"Howl's Moving Castle\" escaped the problem because it is wrapped inside double quotes. If its wrapped inside single quotes then we have to use escape character \\' to show single quote in the final output.\n",
    "'Howl\\'s Moving Castle' -> 'Howl's Moving Castle'"
   ]
  },
  {
   "cell_type": "markdown",
   "id": "eef781d2",
   "metadata": {},
   "source": [
    "#### Ques 5. How do you write a string of newlines if you don't want to use the n character?"
   ]
  },
  {
   "cell_type": "raw",
   "id": "01d26e71",
   "metadata": {},
   "source": [
    "Answers:\n",
    "Multiline string allow you to use newlines in string without the \\n escape character."
   ]
  },
  {
   "cell_type": "code",
   "execution_count": 1,
   "id": "5b2045e4",
   "metadata": {},
   "outputs": [
    {
     "name": "stdout",
     "output_type": "stream",
     "text": [
      "iNeuron full stack\n",
      "Data Science Course.\n",
      "I like teachers of this course.\n"
     ]
    }
   ],
   "source": [
    "# Example:\n",
    "text = '''iNeuron full stack\n",
    "Data Science Course.\n",
    "I like teachers of this course.'''\n",
    "print(text)"
   ]
  },
  {
   "cell_type": "markdown",
   "id": "55bd595e",
   "metadata": {},
   "source": [
    "#### Ques 6. What are the values of the given expressions?"
   ]
  },
  {
   "cell_type": "raw",
   "id": "6ce6b013",
   "metadata": {},
   "source": [
    "'Hello, world'[1]\n",
    "'Hello, world'[0:5]\n",
    "'Hello, world'[:5]\n",
    "'Hello, world'[3:]"
   ]
  },
  {
   "cell_type": "raw",
   "id": "05ed38fd",
   "metadata": {},
   "source": [
    "Answers:\n",
    "The values for the given expressions are:\n",
    "'Hello, world!'[1] -> 'e'\n",
    "'Hello, world!'[0:5] -> 'Hello'\n",
    "'Hello, world!'[:5] -> 'Hello'\n",
    "'Hello, world!'[3:] -> 'lo, world!'"
   ]
  },
  {
   "cell_type": "markdown",
   "id": "675fec8c",
   "metadata": {},
   "source": [
    "#### Ques 7. What are the values of the following expressions?"
   ]
  },
  {
   "cell_type": "raw",
   "id": "4117bd92",
   "metadata": {},
   "source": [
    "\"Hello\".upper()\n",
    "\"Hello\".upper().isupper()\n",
    "\"Hello\".upper().lower()"
   ]
  },
  {
   "cell_type": "raw",
   "id": "1defcc43",
   "metadata": {},
   "source": [
    "Answers:\n",
    "The values for the given expressions are:\n",
    "'Hello'.upper() -> 'HELLO'\n",
    "'Hello'.upper().isupper() -> True\n",
    "'Hello'.upper().lower() -> 'hello'"
   ]
  },
  {
   "cell_type": "markdown",
   "id": "c6b1b32c",
   "metadata": {},
   "source": [
    "#### Ques 8. What are the values of the following expressions?"
   ]
  },
  {
   "cell_type": "raw",
   "id": "537b2585",
   "metadata": {},
   "source": [
    "'Remember, remember, the fifth of July.'.split()\n",
    "\"-\".join('There can only one.'.split())"
   ]
  },
  {
   "cell_type": "raw",
   "id": "461ed7b3",
   "metadata": {},
   "source": [
    "Answers:\n",
    "The values for the given expressions are:\n",
    "'Remember, remember, the fifith of July.'.split() -> ['Remember,', 'remember,', 'the', 'fifith', 'of', 'July.']\n",
    "\n",
    "'-'.join('There can only one'.split()) -> 'There-can-only-one'"
   ]
  },
  {
   "cell_type": "markdown",
   "id": "a5eb0b76",
   "metadata": {},
   "source": [
    "#### Ques 9. What are the methods for right-justifying, left-justifying, and centering a string?"
   ]
  },
  {
   "cell_type": "raw",
   "id": "3431069b",
   "metadata": {},
   "source": [
    "Answers:\n",
    "The rjust(),ljust(),center() string methods, respectively."
   ]
  },
  {
   "cell_type": "markdown",
   "id": "4e8d33bc",
   "metadata": {},
   "source": [
    "#### Ques 10. What is the best way to remove whitespace characters from the start or end?"
   ]
  },
  {
   "cell_type": "raw",
   "id": "bcbd481e",
   "metadata": {},
   "source": [
    "Answers:\n",
    "The strip(), lstrip() and rstrip() methods remove whitesapce characters from the string. strip() remove all the whitespace in the start and end of the string but not in between, lstrip() and rstrip() remove the whitespace from left and right of the string respectively."
   ]
  }
 ],
 "metadata": {
  "kernelspec": {
   "display_name": "Python 3 (ipykernel)",
   "language": "python",
   "name": "python3"
  },
  "language_info": {
   "codemirror_mode": {
    "name": "ipython",
    "version": 3
   },
   "file_extension": ".py",
   "mimetype": "text/x-python",
   "name": "python",
   "nbconvert_exporter": "python",
   "pygments_lexer": "ipython3",
   "version": "3.9.12"
  }
 },
 "nbformat": 4,
 "nbformat_minor": 5
}
