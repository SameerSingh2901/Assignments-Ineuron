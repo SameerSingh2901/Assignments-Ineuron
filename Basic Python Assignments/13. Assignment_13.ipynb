{
 "cells": [
  {
   "cell_type": "markdown",
   "id": "31351e58",
   "metadata": {},
   "source": [
    "#### Ques 1. What advantages do Excel spreadsheets have over CSV spreadsheets?"
   ]
  },
  {
   "cell_type": "markdown",
   "id": "1006f736",
   "metadata": {},
   "source": [
    "Answer:\n",
    "\n",
    "The Advantages of Excel over CSV are:\n",
    "\n",
    "- Excel (XLS and XLSX) file formats are better for storing and analysing complex data.\n",
    "- An Excel not only stores data but can also do operations on the data using macros, formulas etc\n",
    "- CSV files are plain-text files, does not contain formatting, formulas, macros, etc. It is also known as flat files."
   ]
  },
  {
   "cell_type": "markdown",
   "id": "6526d2ca",
   "metadata": {},
   "source": [
    "#### Ques 2.What do you pass to csv.reader() and csv.writer() to create reader and writer objects?"
   ]
  },
  {
   "cell_type": "code",
   "execution_count": 1,
   "id": "bf9a4454",
   "metadata": {},
   "outputs": [
    {
     "name": "stdout",
     "output_type": "stream",
     "text": [
      "['top-link-href', 'published-date', 'title', 'filelink-href']\n",
      "['https://www.mas.gov.sg/regulation/circulars/advisory-on-addressing-the-technology-and-cyber-security-risks-associated-with-public-cloud-adoption', 'Published Date: 01Â\\xa0JuneÂ\\xa02021', 'MAS/TCRS/2021/03: Advisory on Addressing the Technology and Cyber Security Risks Associated with Public Cloud Adoption', 'https://www.mas.gov.sg/-/media/mas/regulations-and-financial-stability/regulatory-and-supervisory-framework/risk-management/cloud-advisory.pdf']\n",
      "['https://www.mas.gov.sg/regulation/circulars/bd-042005-central-provident-fund-boards-measures-to-address-cashback-transactions-for-resale-hdb-flats', 'Published Date: 01Â\\xa0MarchÂ\\xa02005', 'BD 04/2005: Central Provident Fund Boardâ€™s Measures to Address Cashback Transactions for Resale HDB Flats', 'https://www.mas.gov.sg/-/media/mas/resource/legislation_guidelines/banks/circulars/cir_bd_04_2005.pdf?sc_lang=en&hash=DE81E90F143D106F86EDB1B082EC0998']\n",
      "['https://www.mas.gov.sg/regulation/circulars/bd-08-2013-conduct-of-renminbi-rmb-business-in-singapore', 'Published Date: 22Â\\xa0OctoberÂ\\xa02013', 'BD 08/2013: Conduct of Renminbi (RMB) Business in Singapore', 'https://www.mas.gov.sg/-/media/mas/sectors/circulars/banking/revised-circular-on-conduct-of-renminbi.pdf']\n",
      "['https://www.mas.gov.sg/regulation/circulars/bd-142004-cash-rebates-offered-for-housing-loans', 'Published Date: 30Â\\xa0DecemberÂ\\xa02004', 'BD 14/2004: Cash Rebates Offered for Housing Loans', 'https://www.mas.gov.sg/-/media/mas/resource/legislation_guidelines/banks/circulars/30-dec-2004--bd-cir-142004--cash-rebates-offered-for-housing-loans.pdf?sc_lang=en&hash=944AB8BE9D88F1600231F27EEA176875']\n",
      "['https://www.mas.gov.sg/regulation/circulars/borrowers-who-are-individuals-and-who-own-residential-property-gazetted-for-acquisition-amended-from-circular-dated-22-july-2013', 'Published Date: 03Â\\xa0SeptemberÂ\\xa02013', 'Borrowers Who are Individuals and Who Own Residential Property Gazetted for Acquisition (Amended from Circular dated 22 July 2013)', 'https://www.mas.gov.sg/-/media/mas/resource/legislation_guidelines/banks/circulars/circular_rules-on-acquired-property_3-sep-2013.pdf']\n",
      "['https://www.mas.gov.sg/regulation/circulars/borrowers-who-are-individuals-and-who-own-residential-property-gazetted-for-acquisition-august-2014', 'Published Date: 04Â\\xa0SeptemberÂ\\xa02014', 'Borrowers Who are Individuals and Who Own Residential Property Gazetted for Acquisition (August 2014)', 'https://www.mas.gov.sg/-/media/mas/regulations-and-financial-stability/regulations-guidance-and-licensing/commercial-banks/regulations-guidance-and-licensing/circulars/circular_rules-on-acquired-property_4-sep-2014.pdf']\n",
      "['https://www.mas.gov.sg/regulation/circulars/cfc-01-2022---appointment-of-same-independent-valuer-for-performing-desktop-valuation-in-respect-of-interim-financial-reporting-under-frg-3', 'Published Date: 29Â\\xa0JuneÂ\\xa02022', 'CFC 01/2022 Appointment of same independent valuer for performing desktop valuation in respect of interim financial reporting under Financial Reporting Guidance 3', 'https://www.mas.gov.sg/-/media/mas/regulations-and-financial-stability/regulations-guidance-and-licensing/securities-futures-and-fund-management/regulations-guidance-and-licensing/circulars/cfc-01-2022--circular-to-reit-managers-on-frg-3-29-jun-2022.pdf']\n",
      "['https://www.mas.gov.sg/regulation/circulars/cfc-02-2022---disclosure-and-reporting-guidelines-for-retail-esg-funds', 'Published Date: 28Â\\xa0JulyÂ\\xa02022', 'CFC 02/2022 Disclosure and Reporting Guidelines for Retail ESG Funds', 'https://www.mas.gov.sg/-/media/mas/regulations-and-financial-stability/regulations-guidance-and-licensing/securities-futures-and-fund-management/regulations-guidance-and-licensing/circulars/cfc-02-2022-disclosure-and-reporting-guidelines-for-retail-esg-funds.pdf']\n",
      "['https://www.mas.gov.sg/regulation/circulars/cfc-02-of-2020---modification-to-the-single-entity-limit-for-country-specific-government-bond-funds', 'Published Date: 26Â\\xa0AugustÂ\\xa02020', 'CFC 02/2020 Modification to the Single Entity Limit for Country-Specific Government Bond Funds', 'https://www.mas.gov.sg/-/media/mas/regulations-and-financial-stability/regulations-guidance-and-licensing/securities-futures-and-fund-management/regulations-guidance-and-licensing/circulars/cis-circular---cfc-02-of-2020---26-aug-2020.pdf']\n",
      "['https://www.mas.gov.sg/regulation/circulars/cfc-03-2022-guidance-on-requirements-that-are-applicable-to-exchange-traded-funds-participating-in-the-szse-sgx-etf-link', 'Published Date: 30Â\\xa0SeptemberÂ\\xa02022', 'CFC 03/2022 Guidance on requirements that are applicable to Exchange Traded Funds participating in the SZSE-SGX ETF Link', 'https://www.mas.gov.sg/-/media/mas/regulations-and-financial-stability/regulations-guidance-and-licensing/securities-futures-and-fund-management/regulations-guidance-and-licensing/circulars/cfc_03_2022-guidance-on-requirements-applicable-to-etfs-participating-in-szse-sgx-etf-link.pdf']\n",
      "['https://www.mas.gov.sg/regulation/circulars/circular-on-enhancing-amlcft-controls-in-the-vcc-sector', 'Published Date: 13Â\\xa0SeptemberÂ\\xa02022', 'Circular on Enhancing Anti-Money Laundering and Countering the Financing of Terrorism Controls in the VCC Sector', 'https://www.mas.gov.sg/-/media/mas/regulations-and-financial-stability/regulatory-and-supervisory-framework/anti_money-laundering_countering-the-financing-of-terrorism/amld062022-1-circular-on-enhancing-amlcft-controls-in-the-vcc-sector.pdf']\n",
      "['https://www.mas.gov.sg/regulation/circulars/circular-on-money-laundering-and-terrorism-financing-risks-in-the-wealth-management-sector', 'Published Date: 03Â\\xa0MarchÂ\\xa02023', 'Circular on Money Laundering and Terrorism Financing Risks in the Wealth Management Sector', 'https://www.mas.gov.sg/-/media/mas/regulations-and-financial-stability/regulatory-and-supervisory-framework/anti_money-laundering_countering-the-financing-of-terrorism/circular--mltf-risks-in-the-wealth-management-sector-3-mar-2023.pdf']\n",
      "['https://www.mas.gov.sg/regulation/circulars/circular-on-non-face-to-face-customer-due-diligence-measures', 'Last Revised Date: 08Â\\xa0FebruaryÂ\\xa02022', 'AMLD 01/2022: Circular on Non-Face-to-Face Customer Due Diligence Measures', 'https://www.mas.gov.sg/-/media/mas-media-library/regulation/circulars/amld/circular---non-face-to-face-customer-due-diligence-measures-1.pdf']\n",
      "['https://www.mas.gov.sg/regulation/circulars/circular-on-use-of-myinfo-and-cdd-measures-for-non-face-to-face-business-relations', 'Published Date: 08Â\\xa0JanuaryÂ\\xa02018', 'AMLD 01/2018: Use of MyInfo and CDD Measures for Non Face-to-Face Business Relations', 'https://www.mas.gov.sg/-/media/mas/regulations-and-financial-stability/regulatory-and-supervisory-framework/anti_money-laundering_countering-the-financing-of-terrorism/circular-on-myinfo-and-cdd-on-nftf-business-relations.pdf']\n",
      "['https://www.mas.gov.sg/regulation/circulars/cmd-022009--trustees-responsibility-for-safe-custody-of-assets-of-a-collective-investment-scheme', 'Published Date: 22Â\\xa0MayÂ\\xa02009', \"CMD 02/2009 - Trustee's Responsibility for Safe Custody of Assets of a Collective Investment Scheme\", 'https://www.mas.gov.sg/-/media/mas/resource/legislation_guidelines/securities_futures/circulars/circular-on-safe-keeping-of-assets-_-22-may.pdf?sc_lang=en&hash=0843C7224561A6E81E678BDDB0342761']\n",
      "['https://www.mas.gov.sg/regulation/circulars/cmi-012011-due-diligence-checks-and-documentation-in-respect-of-the-appointment-of-appointed-provisional-and-temporary-representatives', 'Published Date: 08Â\\xa0OctoberÂ\\xa02018', 'CMI 01/2011 Due Diligence Checks and Documentation in Respect of the Appointment of Appointed, Provisional, and Temporary Representatives', 'https://www.mas.gov.sg/-/media/mas/regulations-and-financial-stability/regulations-guidance-and-licensing/financial-advisers/circulars/sfa-faa--circular-cmi-01-2011--due-diligence-checks-and-documentation-for-appointment-and-temp-reps.pdf']\n",
      "['https://www.mas.gov.sg/regulation/circulars/cmi-02-2023-observations-from-inspections-of-licensed-venture-capital-fund-managers', 'Published Date: 14Â\\xa0MarchÂ\\xa02023', 'CMI 02/2023 Observations from Inspections of Licensed Venture Capital Fund Managers', 'https://www.mas.gov.sg/-/media/mas/regulations-and-financial-stability/regulations-guidance-and-licensing/securities-futures-and-fund-management/regulations-guidance-and-licensing/circulars/circular-cmi-02-2023-observations-from-inspections-of-vcfms.pdf']\n",
      "['https://www.mas.gov.sg/regulation/circulars/cmi-022008---survey-and-thematic-inspection-of-hedge-fund-managers', 'Published Date: 28Â\\xa0JulyÂ\\xa02008', 'CMI 02/2008 - Survey and Thematic Inspection of Hedge Fund Managers', 'https://www.mas.gov.sg/-/media/mas/sectors/circulars/cmi/survey-and-thematic-inspection-of-hedge-fund-managers.pdf']\n",
      "['https://www.mas.gov.sg/regulation/circulars/cmi-022015-circular-to-brokerdealers-on-enhancing-antimoney-laundering--countering-the-financing-of-terrorism-measures-and-business-conduct', 'Published Date: 08Â\\xa0OctoberÂ\\xa02018', 'CMI 02/2015 Circular to Broker-Dealers on Enhancing Anti-Money Laundering & Countering the Financing of Terrorism Measures and Business Conduct', 'https://www.mas.gov.sg/-/media/mas/regulations-and-financial-stability/regulations-guidance-and-licensing/securities-futures-and-fund-management/regulations-guidance-and-licensing/circulars/sfa--cmi-022015--circular-to-broker-dealers-on-enhancing-amlcft-measures-and-business-conduct--8oct2018.pdf']\n",
      "['https://www.mas.gov.sg/regulation/circulars/cmi-03-2020-mas-will-not-introduce-collateral-requirement-for-the-trading-of-listed-securities', 'Published Date: 18Â\\xa0FebruaryÂ\\xa02020', 'CMI 03/2020 Circular to inform that MAS Will Not Introduce Collateral Requirement for the Trading of Listed Securities', 'https://www.mas.gov.sg/-/media/mas/regulations-and-financial-stability/regulations-guidance-and-licensing/securities-futures-and-fund-management/regulations-guidance-and-licensing/circulars/cmi-032020-mas-will-not-introduce-collateral-requirement-for-the-trading-of-listed-securities.pdf']\n",
      "['https://www.mas.gov.sg/regulation/circulars/cmi-032015-circular-to-fund-management-companies-on-enhancing-antimoney-laundering--countering-the-financing-of-terrorism-measures-and-business-conduct', 'Published Date: 28Â\\xa0OctoberÂ\\xa02015', 'CMI 03/2015 Circular to Fund Management Companies on Enhancing Anti-Money Laundering & Countering the Financing of Terrorism Measures and Business Conduct', 'https://www.mas.gov.sg/-/media/mas/regulations-and-financial-stability/regulations-guidance-and-licensing/securities-futures-and-fund-management/regulations-guidance-and-licensing/circulars/cmi-032015-circular-to-fmcs-on-enhancing-amlcft-measures-and-business-conduct.pdf']\n",
      "['https://www.mas.gov.sg/regulation/circulars/cmi-04-2020-good-practices-in-managing-customers-credit-risks', 'Published Date: 18Â\\xa0FebruaryÂ\\xa02020', \"CMI 04/2020 Circular on Good Practices in Managing Customers' Credit Risks\", 'https://www.mas.gov.sg/-/media/mas/regulations-and-financial-stability/regulations-guidance-and-licensing/securities-futures-and-fund-management/regulations-guidance-and-licensing/circulars/cmi-042020-circular-on-good-practices-in-managing-customers-credit-risks.pdf']\n",
      "['https://www.mas.gov.sg/regulation/circulars/cmi-042008-findings-from-thematic-inspection-of-licensed-trust-companies', 'Published Date: 19Â\\xa0DecemberÂ\\xa02008', 'CMI 04/2008 Findings From Thematic Inspection of Licensed Trust Companies', 'https://www.mas.gov.sg/-/media/mas/resource/legislation_guidelines/trust_companies/circulars/findings-from-thematic-inspection-of-licensed-trust-companies-19-dec-2008.pdf?sc_lang=en&hash=5F82383C1F87D47082FB90B4C0928F49']\n",
      "['https://www.mas.gov.sg/regulation/circulars/cmi-042015-circular-to-corporate-finance-firms-on-enhancing-antimoney-laundering--countering-the-financing-of-terrorism-measures-and-business-conduct', 'Published Date: 28Â\\xa0OctoberÂ\\xa02015', 'CMI 04/2015 Circular to Corporate Finance Firms on Enhancing Anti-Money Laundering & Countering the Financing of Terrorism Measures and Business Conduct', 'https://www.mas.gov.sg/-/media/mas/regulations-and-financial-stability/regulations-guidance-and-licensing/securities-futures-and-fund-management/regulations-guidance-and-licensing/circulars/cmi-042015-circular-to-cf-firms-on-enhancing-amlcft-measures-and-business-conduct.pdf']\n",
      "['https://www.mas.gov.sg/regulation/circulars/cmi-062015-circular-on-enhancing-anti-money-laundering--countering-the-financing-of-terrorism-measures-and-business-conduct', 'Published Date: 28Â\\xa0OctoberÂ\\xa02015', 'CMI 06/2015 Circular on Enhancing Anti-Money Laundering & Countering the Financing of Terrorism Measures and Business Conduct', 'https://www.mas.gov.sg/-/media/mas/regulations-and-financial-stability/regulations-guidance-and-licensing/insurance/regulations-guidance-and-licensing/circulars/cmi-062015-circular-to-insurance-brokers-on-enhancing-amlcft-measures-and-business-conduct.pdf']\n",
      "['https://www.mas.gov.sg/regulation/circulars/cmi-072015-circular-to-licensed-trust-companies-on-enhancing-antimoney-laundering--countering-the-financing-of-terrorism-measures', 'Published Date: 28Â\\xa0OctoberÂ\\xa02015', 'CMI 07/2015 Circular to Licensed Trust Companies on Enhancing Anti-Money Laundering & Countering the Financing of Terrorism Measures', 'https://www.mas.gov.sg/-/media/mas/resource/legislation_guidelines/trust_companies/circulars/cmi-072015-circular-to-ltcs-on-enhancing-amlcft-measures.pdf']\n",
      "['https://www.mas.gov.sg/regulation/circulars/cmi-13-2021', 'Published Date: 19Â\\xa0MayÂ\\xa02022', 'CMI 13/2021 Reporting of Significant Redemption, Gating and Suspension of Funds', 'https://www.mas.gov.sg/-/media/mas/regulations-and-financial-stability/regulations-guidance-and-licensing/securities-futures-and-fund-management/regulations-guidance-and-licensing/circulars/circular-cmi-13-2021-significant-redemptions-fund-gating-and-suspensions.pdf']\n",
      "['https://www.mas.gov.sg/regulation/circulars/cmi-272018-controls-and-disclosures-to-be-implemented-by-licensed-securities-based-crowdfunding-operators', 'Last Revised Date: 05Â\\xa0MarchÂ\\xa02021', 'CMI 27/2018 Controls and Disclosures to be Implemented by Licensed Securities-Based Crowdfunding Operators', 'https://www.mas.gov.sg/-/media/mas/regulations-and-financial-stability/regulations-guidance-and-licensing/securities-futures-and-fund-management/regulations-guidance-and-licensing/circulars/cmi-272018-controls-and-disclosures-implemented-by-licensed-sec-based-crowdfunding-operators-210310.pdf']\n",
      "['https://www.mas.gov.sg/regulation/circulars/cmi-32-2020-good-practices-for-disclosure-of-actively-managed-funds', 'Published Date: 27Â\\xa0JulyÂ\\xa02020', 'CMI 32/2020 Good Practices for Disclosure of Actively Managed Funds', 'https://www.mas.gov.sg/-/media/mas/regulations-and-financial-stability/regulations-guidance-and-licensing/securities-futures-and-fund-management/regulations-guidance-and-licensing/circulars/cmi-32-2020-good-disclosure-practices-for-actively-managed-funds.pdf']\n",
      "['https://www.mas.gov.sg/regulation/circulars/cmi-44-2018', 'Published Date: 27Â\\xa0DecemberÂ\\xa02018', 'CMI 44/2018 Amendments to the Insurance (Approved Marine, Aviation and Transit Insurers) Regulations and Insurance (Approved Marine, Aviation and Transit Brokers and Approved Reinsurance Brokers) Regulations', 'https://www.mas.gov.sg/-/media/mas/regulations-and-financial-stability/regulations-guidance-and-licensing/insurance/regulations-guidance-and-licensing/circulars/mas-circular-on-mat-insurance-broker.pdf']\n",
      "['https://www.mas.gov.sg/regulation/circulars/disclosure-of-interests-in-securities---mas-letter-to-trustee-managers-of-listed-bts', 'Published Date: 08Â\\xa0OctoberÂ\\xa02012', 'Disclosure of Interests in Securities - MAS letter to trustee-managers of listed BTs', 'https://www.mas.gov.sg/-/media/mas/regulations-and-financial-stability/regulations-guidance-and-licensing/securities-futures-and-fund-management/regulations-guidance-and-licensing/disclosure-of-interests/letter-to-tm_bt.pdf']\n",
      "['https://www.mas.gov.sg/regulation/circulars/fsg-1599-mas-circular-to-finance-companies-on-mas-notice-806-maintenance-of-minimum-liquid-assets', 'Published Date: 07Â\\xa0MayÂ\\xa01999', 'FSG 15/99: MAS Notice 806 to Finance Companies â€“ Maintenance of Minimum Liquid Assets', 'https://www.mas.gov.sg/-/media/mas/regulations-and-financial-stability/regulations-guidance-and-licensing/finance-companies/07-may-1999-fsg-151999-mas-notice-806-maintenance-of-minimum-liquid-assets.pdf']\n"
     ]
    },
    {
     "ename": "UnicodeDecodeError",
     "evalue": "'charmap' codec can't decode byte 0x9d in position 1530: character maps to <undefined>",
     "output_type": "error",
     "traceback": [
      "\u001b[1;31m---------------------------------------------------------------------------\u001b[0m",
      "\u001b[1;31mUnicodeDecodeError\u001b[0m                        Traceback (most recent call last)",
      "Input \u001b[1;32mIn [1]\u001b[0m, in \u001b[0;36m<cell line: 4>\u001b[1;34m()\u001b[0m\n\u001b[0;32m      4\u001b[0m \u001b[38;5;28;01mwith\u001b[39;00m \u001b[38;5;28mopen\u001b[39m(\u001b[38;5;124m\"\u001b[39m\u001b[38;5;124mC:/Users/samee/Downloads/mas_circular_files.csv\u001b[39m\u001b[38;5;124m\"\u001b[39m,\u001b[38;5;124m'\u001b[39m\u001b[38;5;124mr\u001b[39m\u001b[38;5;124m'\u001b[39m) \u001b[38;5;28;01mas\u001b[39;00m file:\n\u001b[0;32m      5\u001b[0m     csv_file \u001b[38;5;241m=\u001b[39m csv\u001b[38;5;241m.\u001b[39mreader(file,delimiter\u001b[38;5;241m=\u001b[39m\u001b[38;5;124m'\u001b[39m\u001b[38;5;124m,\u001b[39m\u001b[38;5;124m'\u001b[39m)\n\u001b[1;32m----> 6\u001b[0m     \u001b[38;5;28;01mfor\u001b[39;00m ele \u001b[38;5;129;01min\u001b[39;00m csv_file:\n\u001b[0;32m      7\u001b[0m         \u001b[38;5;28mprint\u001b[39m(ele)\n",
      "File \u001b[1;32m~\\anaconda3\\lib\\encodings\\cp1252.py:23\u001b[0m, in \u001b[0;36mIncrementalDecoder.decode\u001b[1;34m(self, input, final)\u001b[0m\n\u001b[0;32m     22\u001b[0m \u001b[38;5;28;01mdef\u001b[39;00m \u001b[38;5;21mdecode\u001b[39m(\u001b[38;5;28mself\u001b[39m, \u001b[38;5;28minput\u001b[39m, final\u001b[38;5;241m=\u001b[39m\u001b[38;5;28;01mFalse\u001b[39;00m):\n\u001b[1;32m---> 23\u001b[0m     \u001b[38;5;28;01mreturn\u001b[39;00m \u001b[43mcodecs\u001b[49m\u001b[38;5;241;43m.\u001b[39;49m\u001b[43mcharmap_decode\u001b[49m\u001b[43m(\u001b[49m\u001b[38;5;28;43minput\u001b[39;49m\u001b[43m,\u001b[49m\u001b[38;5;28;43mself\u001b[39;49m\u001b[38;5;241;43m.\u001b[39;49m\u001b[43merrors\u001b[49m\u001b[43m,\u001b[49m\u001b[43mdecoding_table\u001b[49m\u001b[43m)\u001b[49m[\u001b[38;5;241m0\u001b[39m]\n",
      "\u001b[1;31mUnicodeDecodeError\u001b[0m: 'charmap' codec can't decode byte 0x9d in position 1530: character maps to <undefined>"
     ]
    }
   ],
   "source": [
    "# Answer:\n",
    "\n",
    "import csv\n",
    "with open(\"C:/Users/samee/Downloads/mas_circular_files.csv\",'r') as file:\n",
    "    csv_file = csv.reader(file,delimiter=',')\n",
    "    for ele in csv_file:\n",
    "        print(ele)"
   ]
  },
  {
   "cell_type": "markdown",
   "id": "6c17b32d",
   "metadata": {},
   "source": [
    "#### Ques 3. What modes do File objects for reader and writer objects need to be opened in?"
   ]
  },
  {
   "cell_type": "markdown",
   "id": "c6a423d5",
   "metadata": {},
   "source": [
    "Answer: \n",
    "\n",
    "For csv.reader(iterable_file_object), the file objects needed to be opened in read mode mode='r' whereas for csv.writer(iterable_file_object) the file objects needed to be opened in write mode mode='w'."
   ]
  },
  {
   "cell_type": "markdown",
   "id": "1567de7c",
   "metadata": {},
   "source": [
    "#### Ques 4. What method takes a list argument and writes it to a CSV file?"
   ]
  },
  {
   "cell_type": "markdown",
   "id": "626f1d6c",
   "metadata": {},
   "source": [
    "Answer:\n",
    "\n",
    "csv.writer class provides two methods for writing to CSV. They are writerow() and writerows(). writerow() method writes a single row at a time. Whereas writerows() method is used to write multiple rows at a time."
   ]
  },
  {
   "cell_type": "code",
   "execution_count": 2,
   "id": "b308939a",
   "metadata": {},
   "outputs": [],
   "source": [
    "# Example Program\n",
    "import csv      \n",
    "fields = ['Name', 'Branch', 'Year', 'CGPA'] #column names \n",
    "rows = [ \n",
    "            ['Nikhil', 'COE', '2', '9.0'],  # data rows of csv file \n",
    "            ['Sanchit', 'COE', '2', '9.1'], \n",
    "            ['Ravi', 'IT', '2', '9.3']\n",
    "       ] \n",
    "with open(\"university_records.csv\", 'w') as csvfile: \n",
    "    csvwriter = csv.writer(csvfile) # creating a csv writer object \n",
    "    csvwriter.writerow(fields) # writing the fields \n",
    "    csvwriter.writerows(rows) # writing the data rows "
   ]
  },
  {
   "cell_type": "markdown",
   "id": "56376d4d",
   "metadata": {},
   "source": [
    "#### Ques 5. What do the keyword arguments delimiter and line terminator do?"
   ]
  },
  {
   "cell_type": "markdown",
   "id": "ac7c8879",
   "metadata": {},
   "source": [
    "Answer:\n",
    "\n",
    "Lets take the example of a csv file:\n",
    "\n",
    "- First Name, Last Name, Age\n",
    "- Mano, Vishnu, 24\n",
    "- Vishnu, Vardhan, 21\n",
    "\n",
    "Here ',' is Delimiter. We can use any Character as per our needs if required. Similarly Line Terminator comes at end of line by default it is newline and can be changed accourding to Requirement."
   ]
  },
  {
   "cell_type": "markdown",
   "id": "6a349a61",
   "metadata": {},
   "source": [
    "#### Ques 6. What function takes a string of JSON data and returns a Python data structure?"
   ]
  },
  {
   "cell_type": "markdown",
   "id": "9a86eab4",
   "metadata": {},
   "source": [
    "Answer:\n",
    "\n",
    "loads() method takes a string of JSON data and returns a Python data structure."
   ]
  },
  {
   "cell_type": "code",
   "execution_count": 3,
   "id": "ef6d34d5",
   "metadata": {},
   "outputs": [
    {
     "name": "stdout",
     "output_type": "stream",
     "text": [
      "{\n",
      "    \"Name\": \"Mano Vishnu\",\n",
      "    \"Qualification\": \"Bachelor of Technology\",\n",
      "    \"Stream\": \"Computer Science and Engineering\"\n",
      "}\n",
      "Type of my_details_json is <class 'str'>\n",
      "{'Name': 'Mano Vishnu', 'Qualification': 'Bachelor of Technology', 'Stream': 'Computer Science and Engineering'}\n",
      "Type of my_details is <class 'dict'>\n"
     ]
    }
   ],
   "source": [
    "# Example of json.loads() method\n",
    "import json\n",
    "my_details_json ='''{\n",
    "    \"Name\": \"Mano Vishnu\",\n",
    "    \"Qualification\": \"Bachelor of Technology\",\n",
    "    \"Stream\": \"Computer Science and Engineering\"\n",
    "}'''\n",
    "print(my_details_json)\n",
    "print(f'Type of my_details_json is {type(my_details_json)}')\n",
    "my_details = json.loads(my_details_json)\n",
    "print(my_details)\n",
    "print(f'Type of my_details is {type(my_details)}')"
   ]
  },
  {
   "cell_type": "markdown",
   "id": "9695d0b9",
   "metadata": {},
   "source": [
    "#### Ques 7. What function takes a Python data structure and returns a string of JSON data?"
   ]
  },
  {
   "cell_type": "markdown",
   "id": "ef77bb45",
   "metadata": {},
   "source": [
    "Answer:\n",
    "\n",
    "dumps() method takes a python data structure and returns a string of JSON data"
   ]
  },
  {
   "cell_type": "code",
   "execution_count": 4,
   "id": "635f5f2f",
   "metadata": {},
   "outputs": [
    {
     "name": "stdout",
     "output_type": "stream",
     "text": [
      "{'Name': 'Mano Vishnu', 'Stream': 'Computer Science and Engineering', 'Qualification': 'Bachelor of Technology'}\n",
      "Type of my_details is <class 'dict'>\n",
      "{\n",
      "    \"Name\": \"Mano Vishnu\",\n",
      "    \"Qualification\": \"Bachelor of Technology\",\n",
      "    \"Stream\": \"Computer Science and Engineering\"\n",
      "}\n",
      "Type of my_details_json is <class 'str'>\n"
     ]
    }
   ],
   "source": [
    "# Example of json.dumps() method\n",
    "import json\n",
    "my_details = {\n",
    "    'Name':'Mano Vishnu',\n",
    "    'Stream':'Computer Science and Engineering',\n",
    "    'Qualification':'Bachelor of Technology'\n",
    "}\n",
    "print(my_details)\n",
    "print(f'Type of my_details is {type(my_details)}')\n",
    "my_details_json = json.dumps(my_details, indent=4, sort_keys=True)\n",
    "print(my_details_json)\n",
    "print(f'Type of my_details_json is {type(my_details_json)}')"
   ]
  }
 ],
 "metadata": {
  "kernelspec": {
   "display_name": "Python 3 (ipykernel)",
   "language": "python",
   "name": "python3"
  },
  "language_info": {
   "codemirror_mode": {
    "name": "ipython",
    "version": 3
   },
   "file_extension": ".py",
   "mimetype": "text/x-python",
   "name": "python",
   "nbconvert_exporter": "python",
   "pygments_lexer": "ipython3",
   "version": "3.9.12"
  }
 },
 "nbformat": 4,
 "nbformat_minor": 5
}
