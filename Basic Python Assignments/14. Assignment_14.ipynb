{
 "cells": [
  {
   "cell_type": "markdown",
   "id": "838a3a00",
   "metadata": {},
   "source": [
    "#### Ques 1. What does RGBA stand for?"
   ]
  },
  {
   "cell_type": "markdown",
   "id": "1facb820",
   "metadata": {},
   "source": [
    "Answer:\n",
    "\n",
    "RGBA is a four-channel format containing data for Red, Green, Blue, and an Alpha value. Where alpha represents the opacity."
   ]
  },
  {
   "cell_type": "markdown",
   "id": "6e42c701",
   "metadata": {},
   "source": [
    "#### Ques 2. From the Pillow module, how do you get the RGBA value of any images?"
   ]
  },
  {
   "cell_type": "markdown",
   "id": "5715af99",
   "metadata": {},
   "source": [
    "Answer:\n",
    "\n",
    "ImageColor.getcolor() gives rgba value of any image."
   ]
  },
  {
   "cell_type": "markdown",
   "id": "3fac6da0",
   "metadata": {},
   "source": [
    "#### Ques 3. What is a box tuple, and how does it work?"
   ]
  },
  {
   "cell_type": "markdown",
   "id": "de400873",
   "metadata": {},
   "source": [
    "Answer:\n",
    "\n",
    "A box tuple is a tuple value of four integers: the left-edge x-coordinate, the top-edge y-coordinate,the width, and the height, respectively."
   ]
  },
  {
   "cell_type": "markdown",
   "id": "b881c56d",
   "metadata": {},
   "source": [
    "#### Ques 4. Use your image and load in notebook then, How can you find out the width and height of an Image object?"
   ]
  },
  {
   "cell_type": "code",
   "execution_count": 1,
   "id": "ad21f6af",
   "metadata": {},
   "outputs": [
    {
     "name": "stdout",
     "output_type": "stream",
     "text": [
      "Width, Height -> (329, 153)\n",
      "Width, Height -> 329,153\n",
      "Width, Height -> 329,153\n"
     ]
    }
   ],
   "source": [
    "# Answer:\n",
    "\n",
    "from PIL import Image\n",
    "pic = Image.open(\"C:/Users/samee/Downloads/multiple faces image.jpg\")\n",
    "print(f'Width, Height -> {pic.size}') # Approach 1\n",
    "print(f'Width, Height -> {pic.width},{pic.height}') # Approach 2\n",
    "width,height = pic.size\n",
    "print(f'Width, Height -> {width},{height}') # Approach 3"
   ]
  },
  {
   "cell_type": "markdown",
   "id": "d1c0d150",
   "metadata": {},
   "source": [
    "#### Ques 5. What method would you call to get Image object for a 100×100 image, excluding the lower-left quarter of it?"
   ]
  },
  {
   "cell_type": "code",
   "execution_count": 2,
   "id": "ec823456",
   "metadata": {},
   "outputs": [],
   "source": [
    "# Answer:\n",
    "\n",
    "from PIL import Image\n",
    "img = Image.open('C:/Users/samee/Downloads/multiple faces image.jpg')\n",
    "new_img = img.crop((0,50,50,50))"
   ]
  },
  {
   "cell_type": "markdown",
   "id": "a653d6f8",
   "metadata": {},
   "source": [
    "#### Ques 6. After making changes to an Image object, how could you save it as an image file?"
   ]
  },
  {
   "cell_type": "code",
   "execution_count": 3,
   "id": "9d62b4f7",
   "metadata": {},
   "outputs": [],
   "source": [
    "# Answer:\n",
    "\n",
    "from PIL import Image\n",
    "pic = Image.open('C:/Users/samee/Downloads/multiple faces image.jpg')\n",
    "pic.save('pic2.jpg')"
   ]
  },
  {
   "cell_type": "markdown",
   "id": "16d2093d",
   "metadata": {},
   "source": [
    "#### Ques 7. What module contains Pillow’s shape-drawing code?"
   ]
  },
  {
   "cell_type": "markdown",
   "id": "9d8ba42d",
   "metadata": {},
   "source": [
    "Answer:\n",
    "\n",
    "Pillows ImageDraw module contains Shape drawing methods."
   ]
  },
  {
   "cell_type": "markdown",
   "id": "76221b4e",
   "metadata": {},
   "source": [
    "#### Ques 8. Image objects do not have drawing methods. What kind of object does? How do you get this kind of object?"
   ]
  },
  {
   "cell_type": "markdown",
   "id": "f688372a",
   "metadata": {},
   "source": [
    "Answer:\n",
    "\n",
    "ImageDraw objects have shape-drawing methods such as point(), line(), or rectangle().They are returned by passing the Image object to the ImageDraw.Draw() function."
   ]
  }
 ],
 "metadata": {
  "kernelspec": {
   "display_name": "Python 3 (ipykernel)",
   "language": "python",
   "name": "python3"
  },
  "language_info": {
   "codemirror_mode": {
    "name": "ipython",
    "version": 3
   },
   "file_extension": ".py",
   "mimetype": "text/x-python",
   "name": "python",
   "nbconvert_exporter": "python",
   "pygments_lexer": "ipython3",
   "version": "3.9.12"
  }
 },
 "nbformat": 4,
 "nbformat_minor": 5
}
