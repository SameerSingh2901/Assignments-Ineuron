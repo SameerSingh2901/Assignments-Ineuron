{
 "cells": [
  {
   "cell_type": "markdown",
   "id": "dc85f688",
   "metadata": {},
   "source": [
    "##### Ques 1. What are the two values of the Boolean data type? How do you write them?"
   ]
  },
  {
   "cell_type": "markdown",
   "id": "0f94a19e",
   "metadata": {},
   "source": [
    "Answer:\n",
    "Two boolean types are True and False\n",
    "They are written same True and False where the T and F are always capital and rest characters are in lower case."
   ]
  },
  {
   "cell_type": "markdown",
   "id": "fe6de155",
   "metadata": {},
   "source": [
    "##### Ques 2. What are the three different types of Boolean operators? "
   ]
  },
  {
   "cell_type": "markdown",
   "id": "c0d7bcf0",
   "metadata": {},
   "source": [
    "Answer:\n",
    "The three differnt types of Boolean operators in python are: or and not"
   ]
  },
  {
   "cell_type": "markdown",
   "id": "8614ac47",
   "metadata": {},
   "source": [
    "##### Ques 3. Make a list of each Boolean operator&#39;s truth tables (i.e. every possible combination of Boolean values for the operator and what it evaluate ). "
   ]
  },
  {
   "cell_type": "code",
   "execution_count": null,
   "id": "02d5224c",
   "metadata": {},
   "outputs": [],
   "source": [
    "Answer:\n",
    "The Truth tables for the boolean tables are as follows:\n",
    "\n",
    "~ Truth Table for and operaotor\n",
    "True and True is True\n",
    "True and False is False\n",
    "False and True is False\n",
    "False and False is False\n",
    "\n",
    "~ Truth Table for or operaotor\n",
    "True and True is True\n",
    "True and False is True\n",
    "False and True is True\n",
    "False and False is False\n",
    "\n",
    "~ Truth Table for not operaotor\n",
    "True not is False False not is True"
   ]
  },
  {
   "cell_type": "markdown",
   "id": "44885412",
   "metadata": {},
   "source": [
    "##### Ques 4. What are the values of the following expressions? "
   ]
  },
  {
   "cell_type": "markdown",
   "id": "f50c01a6",
   "metadata": {},
   "source": [
    "(5 &gt; 4) and (3 == 5)\n",
    "\n",
    "not (5 &gt; 4)\n",
    "\n",
    "(5 &gt; 4) or (3 == 5)\n",
    "\n",
    "not ((5 &gt; 4) or (3 == 5))\n",
    "\n",
    "(True and True) and (True == False)\n",
    "\n",
    "(not False) or (not True)"
   ]
  },
  {
   "cell_type": "code",
   "execution_count": 1,
   "id": "d34d32f2",
   "metadata": {},
   "outputs": [
    {
     "name": "stdout",
     "output_type": "stream",
     "text": [
      "False\n",
      "False\n",
      "True\n",
      "False\n",
      "False\n",
      "True\n"
     ]
    }
   ],
   "source": [
    "# Answer:\n",
    "print((5>4)and(3==5)) # False\n",
    "print(not(5>4)) # False\n",
    "print((5>4)or(3==5)) # True\n",
    "print(not((5>4)or(3==5))) # False\n",
    "print((True and True)and(True==False)) # False\n",
    "print((not False)or(not True)) # True"
   ]
  },
  {
   "cell_type": "markdown",
   "id": "8af774a1",
   "metadata": {},
   "source": [
    "##### Ques 5. What are the six comparison operators?"
   ]
  },
  {
   "cell_type": "code",
   "execution_count": null,
   "id": "48d3ac78",
   "metadata": {},
   "outputs": [],
   "source": [
    "Answer:\n",
    "The Six comparision operators available in python are:\n",
    "== , != , < , > , <= , =>"
   ]
  },
  {
   "cell_type": "markdown",
   "id": "dfb510fa",
   "metadata": {},
   "source": [
    "##### Ques 6. How do you tell the difference between the equal to and assignment operators? Describe a condition and when you would use one. "
   ]
  },
  {
   "cell_type": "code",
   "execution_count": null,
   "id": "894e52b4",
   "metadata": {},
   "outputs": [],
   "source": [
    "Answer:\n",
    "== is the equal to operator that compares two values and evaluates to a Boolean, while = is that assignment operator that stores a value in a variable."
   ]
  },
  {
   "cell_type": "markdown",
   "id": "733e9377",
   "metadata": {},
   "source": [
    "##### Ques 7. Identify the three blocks in this code: "
   ]
  },
  {
   "cell_type": "code",
   "execution_count": null,
   "id": "e0467211",
   "metadata": {},
   "outputs": [],
   "source": [
    "spam = 0\n",
    "if spam == 10:\n",
    "    print(\"eggs\")\n",
    "if spam > 5:\n",
    "    print(\"bacon\")\n",
    "else:\n",
    "    print(\"ham\")\n",
    "    print(\"spam\")\n",
    "    print(\"spam\")"
   ]
  },
  {
   "cell_type": "code",
   "execution_count": 2,
   "id": "a104f0ef",
   "metadata": {},
   "outputs": [
    {
     "name": "stdout",
     "output_type": "stream",
     "text": [
      "ham\n",
      "spam\n",
      "spam\n"
     ]
    }
   ],
   "source": [
    "# Answer:\n",
    "# Three blocks of code are:\n",
    "\n",
    "# First block\n",
    "spam = 0\n",
    "if spam == 10:\n",
    "    print(\"eggs\")\n",
    "    \n",
    "# Second block\n",
    "if spam > 5:\n",
    "    print(\"bacon\")\n",
    "    \n",
    "# Third block\n",
    "else:\n",
    "    print(\"ham\")\n",
    "    print(\"spam\")\n",
    "    print(\"spam\")"
   ]
  },
  {
   "cell_type": "markdown",
   "id": "a5b727d0",
   "metadata": {},
   "source": [
    "##### Ques 8. Write code that prints Hello if 1 is stored in spam, prints Howdy if 2 is stored in spam, and prints Greetings! if anything else is stored in spam. "
   ]
  },
  {
   "cell_type": "code",
   "execution_count": 3,
   "id": "fc64ebc1",
   "metadata": {},
   "outputs": [
    {
     "name": "stdout",
     "output_type": "stream",
     "text": [
      "Hello\n",
      "Howdy\n",
      "Greetings\n"
     ]
    }
   ],
   "source": [
    "# Answer:\n",
    "def spamCode(spam):\n",
    "    if spam==1:\n",
    "        print('Hello')\n",
    "    elif spam==2:\n",
    "        print('Howdy')\n",
    "    else:\n",
    "        print('Greetings')\n",
    "        \n",
    "spamCode(1) \n",
    "spamCode(2)\n",
    "spamCode(3)"
   ]
  },
  {
   "cell_type": "markdown",
   "id": "e5a12545",
   "metadata": {},
   "source": [
    "##### Ques 9.If your programme is stuck in an endless loop, what keys you’ll press? "
   ]
  },
  {
   "cell_type": "markdown",
   "id": "63eb1660",
   "metadata": {},
   "source": [
    "Answer: \n",
    "Press Ctrl-c to stop a program stuck in an infinite loop"
   ]
  },
  {
   "cell_type": "markdown",
   "id": "12d82d74",
   "metadata": {},
   "source": [
    "##### Ques 10. How can you tell the difference between break and continue? "
   ]
  },
  {
   "cell_type": "markdown",
   "id": "c1404d25",
   "metadata": {},
   "source": [
    "Answer:\n",
    "The break statement will move the execution outside the loop if break condtion is satisfied. Whereas the continue statement will move the execution to the start of the loop."
   ]
  },
  {
   "cell_type": "markdown",
   "id": "82b1015a",
   "metadata": {},
   "source": [
    "##### Ques 11. In a for loop, what is the difference between range(10), range(0, 10), and range(0, 10, 1)? "
   ]
  },
  {
   "cell_type": "code",
   "execution_count": null,
   "id": "6d3ea78b",
   "metadata": {},
   "outputs": [],
   "source": [
    "Answer:\n",
    "The Differences are as follows:\n",
    "\n",
    "1) The range(10) call range from 0 to 9 (but not include 10)\n",
    "2) The range (0,10) explicitly tells the loop to start at 0\n",
    "3) The range(0,10,1) explicitly tells the loop to increase the variable by 1 on each iteration"
   ]
  },
  {
   "cell_type": "markdown",
   "id": "1d74ac86",
   "metadata": {},
   "source": [
    "##### Ques 12. Write a short program that prints the numbers 1 to 10 using a for loop. Then write an equivalent program that prints the numbers 1 to 10 using a while loop. "
   ]
  },
  {
   "cell_type": "code",
   "execution_count": 4,
   "id": "3d753a0f",
   "metadata": {},
   "outputs": [
    {
     "name": "stdout",
     "output_type": "stream",
     "text": [
      "Print using for loop:\n",
      "1\n",
      "2\n",
      "3\n",
      "4\n",
      "5\n",
      "6\n",
      "7\n",
      "8\n",
      "9\n",
      "10\n",
      "\n",
      "\n",
      "Print using while loop:\n",
      "1\n",
      "2\n",
      "3\n",
      "4\n",
      "5\n",
      "6\n",
      "7\n",
      "8\n",
      "9\n",
      "10\n"
     ]
    }
   ],
   "source": [
    "# Answer:\n",
    "print(\"Print using for loop:\")\n",
    "for i in range(1,11):\n",
    "    print(i)\n",
    "\n",
    "print(\"\\n\")\n",
    "print(\"Print using while loop:\")\n",
    "\n",
    "i=1\n",
    "while i<=10:\n",
    "    print(i)\n",
    "    i +=1"
   ]
  },
  {
   "cell_type": "markdown",
   "id": "a71ae768",
   "metadata": {},
   "source": [
    "##### Ques 13. If you had a function named bacon() inside a module named spam, how would you call it after importing spam?"
   ]
  },
  {
   "cell_type": "markdown",
   "id": "eaf8d044",
   "metadata": {},
   "source": [
    "Answer:\n",
    "This function can be called with spam.bacon()"
   ]
  }
 ],
 "metadata": {
  "kernelspec": {
   "display_name": "Python 3 (ipykernel)",
   "language": "python",
   "name": "python3"
  },
  "language_info": {
   "codemirror_mode": {
    "name": "ipython",
    "version": 3
   },
   "file_extension": ".py",
   "mimetype": "text/x-python",
   "name": "python",
   "nbconvert_exporter": "python",
   "pygments_lexer": "ipython3",
   "version": "3.9.12"
  }
 },
 "nbformat": 4,
 "nbformat_minor": 5
}
