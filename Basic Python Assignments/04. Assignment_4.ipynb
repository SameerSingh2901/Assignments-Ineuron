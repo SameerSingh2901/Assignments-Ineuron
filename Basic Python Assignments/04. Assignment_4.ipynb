{
 "cells": [
  {
   "cell_type": "markdown",
   "id": "e4ee2698",
   "metadata": {},
   "source": [
    "##### Ques 1. What exactly is []?"
   ]
  },
  {
   "cell_type": "markdown",
   "id": "2c79005b",
   "metadata": {},
   "source": [
    "Answer:\n",
    "The empty list represented by [] is a list that contains no items."
   ]
  },
  {
   "cell_type": "markdown",
   "id": "3b3a0ba5",
   "metadata": {},
   "source": [
    "##### Ques 2. In a list of values stored in a variable called spam, how would you assign the value &#39;hello&#39; as the third value? (Assume [2, 4, 6, 8, 10] are in spam.) "
   ]
  },
  {
   "cell_type": "markdown",
   "id": "5f90e969",
   "metadata": {},
   "source": [
    "Answer:\n",
    "To assign value \"hello\" to the third index of a list we can do -\n",
    "spam[2] = \"Hello\""
   ]
  },
  {
   "cell_type": "code",
   "execution_count": 1,
   "id": "5614dc3b",
   "metadata": {},
   "outputs": [
    {
     "name": "stdout",
     "output_type": "stream",
     "text": [
      "[2, 4, 6, 8, 10]\n",
      "[2, 4, 'hello', 8, 10]\n"
     ]
    }
   ],
   "source": [
    "# Example\n",
    "spam=[2,4,6,8,10]\n",
    "print(spam)\n",
    "spam[2]='hello'\n",
    "print(spam)"
   ]
  },
  {
   "cell_type": "markdown",
   "id": "62ed303d",
   "metadata": {},
   "source": [
    "#### Let's pretend the spam includes the list ['a', 'b', 'c', 'd'] for the next three queries."
   ]
  },
  {
   "cell_type": "markdown",
   "id": "4b12ab70",
   "metadata": {},
   "source": [
    "##### Ques 3. What is the value of spam[int(int(&#39;3&#39; * 2) / 11)]?"
   ]
  },
  {
   "cell_type": "markdown",
   "id": "9005c35f",
   "metadata": {},
   "source": [
    "Answer:\n",
    "The value of spam[int(int(\"3\"*2)/11)] will be \"d\"."
   ]
  },
  {
   "cell_type": "code",
   "execution_count": 2,
   "id": "c3a4e020",
   "metadata": {},
   "outputs": [
    {
     "name": "stdout",
     "output_type": "stream",
     "text": [
      "d\n"
     ]
    }
   ],
   "source": [
    "spam=['a','b','c','d']\n",
    "print(spam[int(int('3'*2)//11)])"
   ]
  },
  {
   "cell_type": "markdown",
   "id": "65252143",
   "metadata": {},
   "source": [
    "##### Ques 4. What is the value of spam[-1]?"
   ]
  },
  {
   "cell_type": "markdown",
   "id": "bfbd51d8",
   "metadata": {},
   "source": [
    "Answer:\n",
    "spam[-1] will give you \"d\" because -1 means last item of the list."
   ]
  },
  {
   "cell_type": "markdown",
   "id": "132644bb",
   "metadata": {},
   "source": [
    "##### Ques 5. What is the value of spam[:2]?  "
   ]
  },
  {
   "cell_type": "markdown",
   "id": "d3ff22d1",
   "metadata": {},
   "source": [
    "Answer:\n",
    "spam[:2] returns all elements in the list spam from 0 to 2 excluding 2"
   ]
  },
  {
   "cell_type": "code",
   "execution_count": 3,
   "id": "8654459c",
   "metadata": {},
   "outputs": [
    {
     "name": "stdout",
     "output_type": "stream",
     "text": [
      "['a', 'b']\n"
     ]
    }
   ],
   "source": [
    "spam=['a','b','c','d']\n",
    "print(spam[:2])"
   ]
  },
  {
   "cell_type": "markdown",
   "id": "c3091640",
   "metadata": {},
   "source": [
    "#### Let's pretend bacon has the list [3.14, 'cat', 11, 'cat', True] for the next three questions."
   ]
  },
  {
   "cell_type": "markdown",
   "id": "dffc5e22",
   "metadata": {},
   "source": [
    "##### Ques 6. What is the value of bacon.index(&#39;cat&#39;)?"
   ]
  },
  {
   "cell_type": "markdown",
   "id": "ef0cf3a2",
   "metadata": {},
   "source": [
    "Answer:\n",
    "The value of bacon.index('cat') is 1 because index function will only return the index of first occurrence of item. "
   ]
  },
  {
   "cell_type": "markdown",
   "id": "d283d99b",
   "metadata": {},
   "source": [
    "##### Ques 7. How does bacon.append(99) change the look of the list value in bacon?"
   ]
  },
  {
   "cell_type": "markdown",
   "id": "48d212fc",
   "metadata": {},
   "source": [
    "Answer:\n",
    "The append method adds new elements to the end of the list."
   ]
  },
  {
   "cell_type": "code",
   "execution_count": 4,
   "id": "7281850d",
   "metadata": {},
   "outputs": [
    {
     "name": "stdout",
     "output_type": "stream",
     "text": [
      "[3.14, 'cat', 11, 'cat', True]\n",
      "[3.14, 'cat', 11, 'cat', True, 99]\n"
     ]
    }
   ],
   "source": [
    "# Example\n",
    "bacon=[3.14,'cat',11,'cat',True]\n",
    "print(bacon)\n",
    "bacon.append(99)\n",
    "print(bacon)"
   ]
  },
  {
   "cell_type": "markdown",
   "id": "0f79cfe5",
   "metadata": {},
   "source": [
    "##### Ques 8. How does bacon.remove('cat') change the look of the list in bacon?"
   ]
  },
  {
   "cell_type": "markdown",
   "id": "76da9e8d",
   "metadata": {},
   "source": [
    "Answer:\n",
    "The remove method removes the first occurence of the element in the list."
   ]
  },
  {
   "cell_type": "code",
   "execution_count": 5,
   "id": "8d08adc2",
   "metadata": {},
   "outputs": [
    {
     "name": "stdout",
     "output_type": "stream",
     "text": [
      "[3.14, 'cat', 11, 'cat', True, 99]\n",
      "[3.14, 11, 'cat', True, 99]\n"
     ]
    }
   ],
   "source": [
    "print(bacon)\n",
    "bacon.remove('cat')\n",
    "print(bacon)"
   ]
  },
  {
   "cell_type": "markdown",
   "id": "6be498d2",
   "metadata": {},
   "source": [
    "##### Ques 9. What are the list concatenation and list replication operators?"
   ]
  },
  {
   "cell_type": "markdown",
   "id": "7f945280",
   "metadata": {},
   "source": [
    "Answer:\n",
    "The operator for list concatenation is +, while the operator for replication is *."
   ]
  },
  {
   "cell_type": "markdown",
   "id": "a8acbe67",
   "metadata": {},
   "source": [
    "##### Ques 10. What is difference between the list methods append() and insert()?"
   ]
  },
  {
   "cell_type": "markdown",
   "id": "e3c7c211",
   "metadata": {},
   "source": [
    "Answer:\n",
    "While append() will add values only to the end of a list, insert() can add them anywhere in the list."
   ]
  },
  {
   "cell_type": "code",
   "execution_count": 6,
   "id": "713785bb",
   "metadata": {},
   "outputs": [
    {
     "name": "stdout",
     "output_type": "stream",
     "text": [
      "[1, 2, 3, 4, 5, 6]\n",
      "[1, 2, 'Demo', 3, 4, 5, 6]\n"
     ]
    }
   ],
   "source": [
    "#Example\n",
    "list = [1,2,3,4,5]\n",
    "list.append(6)\n",
    "print(list)\n",
    "list.insert(2,'Demo')\n",
    "print(list)"
   ]
  },
  {
   "cell_type": "markdown",
   "id": "24e21baf",
   "metadata": {},
   "source": [
    "##### Ques 11. What are the two methods for removing items from a list?"
   ]
  },
  {
   "cell_type": "markdown",
   "id": "0e27d3b2",
   "metadata": {},
   "source": [
    "Answer:\n",
    "The del statement and the remove() method are two ways to remove values from a list."
   ]
  },
  {
   "cell_type": "markdown",
   "id": "7fed3fbf",
   "metadata": {},
   "source": [
    "##### Ques 12. Describe how list values and string values are identical."
   ]
  },
  {
   "cell_type": "markdown",
   "id": "9ef47ce5",
   "metadata": {},
   "source": [
    "Answer:\n",
    "Both lists and strings can be passed to len() function, have indexes and slices, be used in for loops, be concatenated or replicated, and be used with the in and not in operators."
   ]
  },
  {
   "cell_type": "markdown",
   "id": "a87f5038",
   "metadata": {},
   "source": [
    "##### Ques 13. What's the difference between tuples and lists?"
   ]
  },
  {
   "cell_type": "markdown",
   "id": "d0f0a89e",
   "metadata": {},
   "source": [
    "Answer:\n",
    "Lists are Mutable, Indexable and Slicable. they can have values added, removed, or changed. Tuples are Immutable but Indexable and Slicable. the tuple values cannot be changed at all. Also, tuples are represented using parentheses, (), while lists use the square brackets, []."
   ]
  },
  {
   "cell_type": "markdown",
   "id": "a9dfc8fe",
   "metadata": {},
   "source": [
    "##### Ques 14. How do you type a tuple value that only contains the integer 42?"
   ]
  },
  {
   "cell_type": "markdown",
   "id": "520d6378",
   "metadata": {},
   "source": [
    "Answer:\n",
    "(42,). (The trailing comma is mandatory. otherwise its considered as a int by python Interpreter)"
   ]
  },
  {
   "cell_type": "markdown",
   "id": "6a81a698",
   "metadata": {},
   "source": [
    "##### Ques 15. How do you get a list value's tuple form? How do you get a tuple value's list form?"
   ]
  },
  {
   "cell_type": "markdown",
   "id": "986ab08d",
   "metadata": {},
   "source": [
    "Answer:\n",
    "The tuple() and list() functions, respectively are used to convert a list to tuple and vice versa."
   ]
  },
  {
   "cell_type": "markdown",
   "id": "f151a5b6",
   "metadata": {},
   "source": [
    "##### Ques 16. Variables that \"contain\" list values are not necessarily lists themselves. Instead, what do they contain?"
   ]
  },
  {
   "cell_type": "markdown",
   "id": "03da90cc",
   "metadata": {},
   "source": [
    "Answer:\n",
    "They contain references to list values."
   ]
  },
  {
   "cell_type": "markdown",
   "id": "d9e09d10",
   "metadata": {},
   "source": [
    "##### Ques 17. How do you distinguish between copy.copy() and copy.deepcopy()?"
   ]
  },
  {
   "cell_type": "markdown",
   "id": "c1f09bb0",
   "metadata": {},
   "source": [
    "Answer:\n",
    "The copy.copy() function will do a shallow copy of a list, while the copy.deepcopy() function will do a deep copy of a list. That is, only copy.deepcopy() will duplicate any lists inside the list."
   ]
  }
 ],
 "metadata": {
  "kernelspec": {
   "display_name": "Python 3 (ipykernel)",
   "language": "python",
   "name": "python3"
  },
  "language_info": {
   "codemirror_mode": {
    "name": "ipython",
    "version": 3
   },
   "file_extension": ".py",
   "mimetype": "text/x-python",
   "name": "python",
   "nbconvert_exporter": "python",
   "pygments_lexer": "ipython3",
   "version": "3.9.12"
  }
 },
 "nbformat": 4,
 "nbformat_minor": 5
}
