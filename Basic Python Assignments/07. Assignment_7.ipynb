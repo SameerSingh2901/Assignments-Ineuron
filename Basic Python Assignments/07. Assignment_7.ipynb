{
 "cells": [
  {
   "cell_type": "markdown",
   "id": "254da0fa",
   "metadata": {},
   "source": [
    "#### Ques 1. What is the name of the feature responsible for generating Regex objects?"
   ]
  },
  {
   "cell_type": "markdown",
   "id": "1e511afb",
   "metadata": {},
   "source": [
    "Answer:\n",
    "re.compile() is the feature responsible for generation of Regex objects."
   ]
  },
  {
   "cell_type": "markdown",
   "id": "5482e12d",
   "metadata": {},
   "source": [
    "#### Ques 2. Why do raw strings often appear in Regex objects?"
   ]
  },
  {
   "cell_type": "markdown",
   "id": "be86993e",
   "metadata": {},
   "source": [
    "Answer:\n",
    "Regular expressions use the backslash character ('\\') to indicate special forms (Metacharacters) or to allow special characters (speical sequences) to be used without invoking their special meaning. This collides with Python’s usage of the same character for the same purpose in string literals. Hence, Raw strings are used (e.g. r\"\\n\") so that backslashes do not have to be escaped."
   ]
  },
  {
   "cell_type": "markdown",
   "id": "69c8aae9",
   "metadata": {},
   "source": [
    "#### Ques 3. What is the return value of the search() method?"
   ]
  },
  {
   "cell_type": "markdown",
   "id": "299c9e28",
   "metadata": {},
   "source": [
    "Answer:\n",
    "The return value of re.search(pattern,string) method is a match object if the pattern is observed in the string else it returns a None"
   ]
  },
  {
   "cell_type": "markdown",
   "id": "efb0a907",
   "metadata": {},
   "source": [
    "#### Ques 4. From a Match item, how do you get the actual strings that match the pattern?"
   ]
  },
  {
   "cell_type": "markdown",
   "id": "23b3f83a",
   "metadata": {},
   "source": [
    "Answer: For Matched items group() methods returns actual strings that match the pattern"
   ]
  },
  {
   "cell_type": "markdown",
   "id": "b8fbee1e",
   "metadata": {},
   "source": [
    "#### Ques 5. In the regex which created from the r&#39;(\\d\\d\\d)-(\\d\\d\\d-\\d\\d\\d\\d)&#39;, what does group zero cover? Group 2? Group 1?"
   ]
  },
  {
   "cell_type": "markdown",
   "id": "d0e0da4f",
   "metadata": {},
   "source": [
    "Answer: In the Regex r'(\\d\\d\\d)-(\\d\\d\\d-\\d\\d\\d\\d)' the zero group covers the entire pattern match where as the first group cover (\\d\\d\\d) and the second group cover (\\d\\d\\d-\\d\\d\\d\\d)."
   ]
  },
  {
   "cell_type": "code",
   "execution_count": 1,
   "id": "45218ade",
   "metadata": {},
   "outputs": [
    {
     "name": "stdout",
     "output_type": "stream",
     "text": [
      "('415', '555-4242')\n",
      "415-555-4242\n",
      "415\n",
      "555-4242\n"
     ]
    }
   ],
   "source": [
    "# Example Program\n",
    "import re\n",
    "phoneNumRegex = re.compile(r'(\\d\\d\\d)-(\\d\\d\\d-\\d\\d\\d\\d)')\n",
    "mo = phoneNumRegex.search('My number is 415-555-4242.')\n",
    "print(mo.groups()) # Prints all groups in a tuple format\n",
    "print(mo.group()) # Always returns the fully matched string \n",
    "print(mo.group(1)) # Returns the first group\n",
    "print(mo.group(2)) # Returns the second group"
   ]
  },
  {
   "cell_type": "markdown",
   "id": "640a7d15",
   "metadata": {},
   "source": [
    "#### Ques 6. In standard expression syntax, parentheses and intervals have distinct meanings. How can you tell a regex that you want it to fit real parentheses and periods?"
   ]
  },
  {
   "cell_type": "markdown",
   "id": "ca5ae2e2",
   "metadata": {},
   "source": [
    "Answer: The \\. \\( and \\) escape characters in the raw string passed to re.compile() will match actual parenthesis characters."
   ]
  },
  {
   "cell_type": "markdown",
   "id": "268334c6",
   "metadata": {},
   "source": [
    "#### Ques 7. The findall() method returns a string list or a list of string tuples. What causes it to return one of the two options?"
   ]
  },
  {
   "cell_type": "markdown",
   "id": "ac69aa06",
   "metadata": {},
   "source": [
    "Answer: If the regex pattern has no groups, a list of strings matched is returned. If the regex pattern has groups, a list of tuple of strings is returned."
   ]
  },
  {
   "cell_type": "code",
   "execution_count": 2,
   "id": "ad78617b",
   "metadata": {},
   "outputs": [
    {
     "name": "stdout",
     "output_type": "stream",
     "text": [
      "[('(415)', '555-4242')]\n",
      "['415-555-4242']\n"
     ]
    }
   ],
   "source": [
    "# Example Program\n",
    "import re\n",
    "phoneNumRegex = re.compile(r'(\\(\\d\\d\\d\\)) (\\d\\d\\d-\\d\\d\\d\\d)')\n",
    "mo = phoneNumRegex.findall('My phone number is (415) 555-4242.')\n",
    "print(mo)\n",
    "\n",
    "# Example Program\n",
    "import re\n",
    "phoneNumRegex = re.compile(r'\\d{3}-\\d{3}-\\d{4}')\n",
    "mo = phoneNumRegex.findall('My number is 415-555-4242.')\n",
    "print(mo) # Prints all groups in a tuple format"
   ]
  },
  {
   "cell_type": "markdown",
   "id": "9032a126",
   "metadata": {},
   "source": [
    "#### Ques 8. In standard expressions, what does the | character mean?"
   ]
  },
  {
   "cell_type": "markdown",
   "id": "50b1902b",
   "metadata": {},
   "source": [
    "Answer: In Standard Expressions | means OR operator."
   ]
  },
  {
   "cell_type": "markdown",
   "id": "6683618f",
   "metadata": {},
   "source": [
    "#### Ques 9. In regular expressions, what does the character stand for?"
   ]
  },
  {
   "cell_type": "markdown",
   "id": "e03774de",
   "metadata": {},
   "source": [
    "Answer: In regular Expressions, ? characters represents zero or one match of the preceeding group."
   ]
  },
  {
   "cell_type": "markdown",
   "id": "474f58e2",
   "metadata": {},
   "source": [
    "#### Ques 10.In regular expressions, what is the difference between the + and * characters?"
   ]
  },
  {
   "cell_type": "markdown",
   "id": "3ca5c9d2",
   "metadata": {},
   "source": [
    "Answer: In Regular Expressions, * represents zero ore more occurances of the preceeding group, whereas + represents one or more occurances of the preceeding group."
   ]
  },
  {
   "cell_type": "markdown",
   "id": "70e082bc",
   "metadata": {},
   "source": [
    "#### Ques 11. What is the difference between {4} and {4,5} in regular expression?"
   ]
  },
  {
   "cell_type": "markdown",
   "id": "757f9dc5",
   "metadata": {},
   "source": [
    "Answer: {4} means that its preceeding group should repeat 4 times. where as {4,5} means that its preceeding group should repeat mininum 4 times and maximum 5 times inclusively."
   ]
  },
  {
   "cell_type": "markdown",
   "id": "33b51bb3",
   "metadata": {},
   "source": [
    "#### Ques 12. What do you mean by the \\d, \\w, and \\s shorthand character classes signify in regular expressions?"
   ]
  },
  {
   "cell_type": "markdown",
   "id": "2bc0b1e8",
   "metadata": {},
   "source": [
    "Answer: \\d, \\w and \\s are special sequences in regular expresssions in python:"
   ]
  },
  {
   "cell_type": "markdown",
   "id": "9ef0a072",
   "metadata": {},
   "source": [
    "1) \\w – Matches a word character equivalent to [a-zA-Z0-9_]"
   ]
  },
  {
   "cell_type": "markdown",
   "id": "5bf2de41",
   "metadata": {},
   "source": [
    "2) \\d – Matches digit character equivalent to [0-9]"
   ]
  },
  {
   "cell_type": "markdown",
   "id": "22cd833b",
   "metadata": {},
   "source": [
    "3) \\s – Matches whitespace character (space, tab, newline, etc.)"
   ]
  },
  {
   "cell_type": "markdown",
   "id": "5999f724",
   "metadata": {},
   "source": [
    "#### Ques 13. What do means by \\D, \\W, and \\S shorthand character classes signify in regular expressions?"
   ]
  },
  {
   "cell_type": "markdown",
   "id": "c793a18f",
   "metadata": {},
   "source": [
    "Answer: \\D, \\W and \\S are special sequences in regular expresssions in python:"
   ]
  },
  {
   "cell_type": "markdown",
   "id": "1b8f9472",
   "metadata": {},
   "source": [
    "1) \\W – Matches any non-alphanumeric character equivalent to [^a-zA-Z0-9_]"
   ]
  },
  {
   "cell_type": "markdown",
   "id": "c963f353",
   "metadata": {},
   "source": [
    "2) \\D – Matches any non-digit character, this is equivalent to the set class [^0-9] "
   ]
  },
  {
   "cell_type": "markdown",
   "id": "16689586",
   "metadata": {},
   "source": [
    "3) \\S – Matches any non-whitespace character"
   ]
  },
  {
   "cell_type": "markdown",
   "id": "2d24e05f",
   "metadata": {},
   "source": [
    "#### Ques 14. What is the difference between . * ? and .* ?"
   ]
  },
  {
   "cell_type": "markdown",
   "id": "45b77569",
   "metadata": {},
   "source": [
    "Answer: .* is a Greedy mode, which returns the longest string that meets the condition. Whereas .*? is a non greedy mode which returns the shortest string that meets the condition."
   ]
  },
  {
   "cell_type": "markdown",
   "id": "2de1f875",
   "metadata": {},
   "source": [
    "#### Ques 15. What is the syntax for matching both numbers and lowercase letters with a character class?"
   ]
  },
  {
   "cell_type": "markdown",
   "id": "fd282394",
   "metadata": {},
   "source": [
    "Answer: The Synatax is Either [a-z0-9] or [0-9a-z]."
   ]
  },
  {
   "cell_type": "markdown",
   "id": "ebbf943d",
   "metadata": {},
   "source": [
    "#### Ques 16. What is the procedure for making a normal expression in regax case insensitive?"
   ]
  },
  {
   "cell_type": "markdown",
   "id": "8bfcfae7",
   "metadata": {},
   "source": [
    "Answer: We can pass re.IGNORECASE as a flag to make a noraml expression case insensitive."
   ]
  },
  {
   "cell_type": "markdown",
   "id": "51812c3f",
   "metadata": {},
   "source": [
    "#### Ques 17. What does the . character normally match? What does it match if re.DOTALL is passed as 2nd argument in re.compile()?"
   ]
  },
  {
   "cell_type": "markdown",
   "id": "c9eeb92b",
   "metadata": {},
   "source": [
    "Answer: Dot . character matches everything in input except newline character .. By passing re.DOTALL as a flag to re.compile(), you can make the dot character match all characters, including the newline character."
   ]
  },
  {
   "cell_type": "markdown",
   "id": "493909df",
   "metadata": {},
   "source": [
    "#### Ques  18. If numReg = re.compile(r\"\\d+\"), what will numRegex.sub(\"X\", \"11 drummers, 10 pipers, five rings, 4 hen\") return?"
   ]
  },
  {
   "cell_type": "markdown",
   "id": "4a747ca0",
   "metadata": {},
   "source": [
    "Answer: The Ouput will be 'X drummers, X pipers, five rings, X hen' "
   ]
  },
  {
   "cell_type": "code",
   "execution_count": 3,
   "id": "5580344b",
   "metadata": {},
   "outputs": [
    {
     "data": {
      "text/plain": [
       "'X drummers, X pipers, five rings, X hen'"
      ]
     },
     "execution_count": 3,
     "metadata": {},
     "output_type": "execute_result"
    }
   ],
   "source": [
    "import re\n",
    "numReg = re.compile(r'\\d+')\n",
    "numReg.sub('X', '11 drummers, 10 pipers, five rings, 4 hen')"
   ]
  },
  {
   "cell_type": "markdown",
   "id": "f28105a7",
   "metadata": {},
   "source": [
    "#### Ques 19. What does passing re.VERBOSE as the 2nd argument to re.compile() allow to do?"
   ]
  },
  {
   "cell_type": "markdown",
   "id": "de45d948",
   "metadata": {},
   "source": [
    "Answer: re.VERBOSE will allow to add whitespace and comments to string passed to re.compile()."
   ]
  },
  {
   "cell_type": "markdown",
   "id": "25a403db",
   "metadata": {},
   "source": [
    "#### Ques 20. How would you write a regex that match a number with comma for every three digits? It must match the given following:"
   ]
  },
  {
   "cell_type": "code",
   "execution_count": null,
   "id": "ecac0fd7",
   "metadata": {},
   "outputs": [],
   "source": [
    "\"42\"\n",
    "\"1,234\"\n",
    "\"6,368,745\""
   ]
  },
  {
   "cell_type": "markdown",
   "id": "b6746873",
   "metadata": {},
   "source": [
    "#### but not the following:"
   ]
  },
  {
   "cell_type": "code",
   "execution_count": null,
   "id": "1ae67258",
   "metadata": {},
   "outputs": [],
   "source": [
    "\"12,34,567\" (which has only two digits between the commas)\n",
    "\"1234\" (which lacks commas)"
   ]
  },
  {
   "cell_type": "code",
   "execution_count": 4,
   "id": "a9ce733d",
   "metadata": {},
   "outputs": [
    {
     "name": "stdout",
     "output_type": "stream",
     "text": [
      "Output: 42 -> <re.Match object; span=(0, 2), match='42'>\n",
      "Output: 1,234 -> <re.Match object; span=(0, 5), match='1,234'>\n",
      "Output: 6,368,745 -> <re.Match object; span=(0, 9), match='6,368,745'>\n",
      "Output: 12,34,567 -> None\n",
      "Output: 1234 -> None\n"
     ]
    }
   ],
   "source": [
    "#Answer:\n",
    "import re\n",
    "pattern = r'^\\d{1,3}(,\\d{3})*$'\n",
    "pagex = re.compile(pattern)\n",
    "for ele in ['42','1,234', '6,368,745','12,34,567','1234']:\n",
    "    print('Output:',ele, '->', pagex.search(ele))"
   ]
  },
  {
   "cell_type": "markdown",
   "id": "f9860963",
   "metadata": {},
   "source": [
    "#### Ques 21. How would you write a regex that matches the full name of someone whose last name is Watanabe? You can assume that the first name that comes before it will always be one word that begins with a capital letter. The regex must match the following:"
   ]
  },
  {
   "cell_type": "code",
   "execution_count": null,
   "id": "1abc938e",
   "metadata": {},
   "outputs": [],
   "source": [
    "\"Haruto Watanabe\"\n",
    "\"Alice Watanabe\"\n",
    "\"RoboCop Watanabe\""
   ]
  },
  {
   "cell_type": "markdown",
   "id": "db49b92b",
   "metadata": {},
   "source": [
    "#### but not the following:"
   ]
  },
  {
   "cell_type": "code",
   "execution_count": null,
   "id": "86eb293a",
   "metadata": {},
   "outputs": [],
   "source": [
    "\"haruto Watanabe\" (where the first name is not capitalized)\n",
    "\"Mr. Watanabe\" (where the preceding word has a nonletter character)\n",
    "\"Watanabe\" (which has no first name)\n",
    "\"Haruto watanabe\" (where Watanabe is not capitalized)"
   ]
  },
  {
   "cell_type": "markdown",
   "id": "7dd48efe",
   "metadata": {},
   "source": [
    "Answer: pattern = r'[A-Z]{1}[a-z]*\\sWatanabe'"
   ]
  },
  {
   "cell_type": "code",
   "execution_count": 5,
   "id": "c8a53b03",
   "metadata": {},
   "outputs": [
    {
     "name": "stdout",
     "output_type": "stream",
     "text": [
      "Output:  Haruto Watanabe -> <re.Match object; span=(0, 15), match='Haruto Watanabe'>\n",
      "Output:  Alice Watanabe -> <re.Match object; span=(0, 14), match='Alice Watanabe'>\n",
      "Output:  RoboCop Watanabe -> <re.Match object; span=(4, 16), match='Cop Watanabe'>\n",
      "Output:  haruto Watanabe -> None\n",
      "Output:  Mr. Watanabe -> None\n",
      "Output:  Watanabe -> None\n",
      "Output:  Haruto watanabe -> None\n"
     ]
    }
   ],
   "source": [
    "import re\n",
    "pattern = r'[A-Z]{1}[a-z]*\\sWatanabe'\n",
    "namex = re.compile(pattern)\n",
    "for name in ['Haruto Watanabe','Alice Watanabe','RoboCop Watanabe','haruto Watanabe','Mr. Watanabe','Watanabe','Haruto watanabe']:\n",
    "    print('Output: ',name,'->',namex.search(name))"
   ]
  },
  {
   "cell_type": "markdown",
   "id": "b4409ab8",
   "metadata": {},
   "source": [
    "#### Ques 22. How would you write a regex that matches a sentence where the first word is either Alice, Bob, or Carol; the second word is either eats, pets, or throws; the third word is apples, cats, or baseballs; and the sentence ends with a period? This regex should be case-insensitive. It must match the following:"
   ]
  },
  {
   "cell_type": "code",
   "execution_count": null,
   "id": "879da99c",
   "metadata": {},
   "outputs": [],
   "source": [
    "\"Alice eats apples.\"\n",
    "\"Bob pets cats.\"\n",
    "\"Carol throws baseballs.\"\n",
    "\"Alice throws Apples.\"\n",
    "\"BOB EATS CATS.\""
   ]
  },
  {
   "cell_type": "markdown",
   "id": "aa59570e",
   "metadata": {},
   "source": [
    "#### but not the following:"
   ]
  },
  {
   "cell_type": "code",
   "execution_count": null,
   "id": "4b448b4a",
   "metadata": {},
   "outputs": [],
   "source": [
    "\"RoboCop eats apples.\"\n",
    "\"ALICE THROWS FOOTBALLS.\"\n",
    "\"Carol eats 7 cats.\""
   ]
  },
  {
   "cell_type": "markdown",
   "id": "2012d37f",
   "metadata": {},
   "source": [
    "Answer: pattern = r'(Alice|Bob|Carol)\\s(eats|pets|throws)\\s(apples|cats|baseballs)\\.'"
   ]
  },
  {
   "cell_type": "code",
   "execution_count": 6,
   "id": "20e46c65",
   "metadata": {},
   "outputs": [
    {
     "name": "stdout",
     "output_type": "stream",
     "text": [
      "Output:  Alice eats apples. -> <re.Match object; span=(0, 18), match='Alice eats apples.'>\n",
      "Output:  Bob pets cats. -> <re.Match object; span=(0, 14), match='Bob pets cats.'>\n",
      "Output:  Carol throws baseballs. -> <re.Match object; span=(0, 23), match='Carol throws baseballs.'>\n",
      "Output:  Alice throws Apples. -> <re.Match object; span=(0, 20), match='Alice throws Apples.'>\n",
      "Output:  BOB EATS CATS. -> <re.Match object; span=(0, 14), match='BOB EATS CATS.'>\n",
      "Output:  RoboCop eats apples. -> None\n",
      "Output:  ALICE THROWS FOOTBALLS. -> None\n",
      "Output:  Carol eats 7 cats. -> None\n"
     ]
    }
   ],
   "source": [
    "import re\n",
    "pattern = r'(Alice|Bob|Carol)\\s(eats|pets|throws)\\s(apples|cats|baseballs)\\.'\n",
    "casex = re.compile(pattern,re.IGNORECASE)\n",
    "for ele in ['Alice eats apples.','Bob pets cats.','Carol throws baseballs.','Alice throws Apples.','BOB EATS CATS.','RoboCop eats apples.'\n",
    ",'ALICE THROWS FOOTBALLS.','Carol eats 7 cats.']:\n",
    "    print('Output: ',ele,'->',casex.search(ele))"
   ]
  }
 ],
 "metadata": {
  "kernelspec": {
   "display_name": "Python 3 (ipykernel)",
   "language": "python",
   "name": "python3"
  },
  "language_info": {
   "codemirror_mode": {
    "name": "ipython",
    "version": 3
   },
   "file_extension": ".py",
   "mimetype": "text/x-python",
   "name": "python",
   "nbconvert_exporter": "python",
   "pygments_lexer": "ipython3",
   "version": "3.9.12"
  }
 },
 "nbformat": 4,
 "nbformat_minor": 5
}
