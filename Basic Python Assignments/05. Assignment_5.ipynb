{
 "cells": [
  {
   "cell_type": "markdown",
   "id": "b12a7e9c",
   "metadata": {},
   "source": [
    "#### Ques 1. What does an empty dictionary's code look like?"
   ]
  },
  {
   "cell_type": "markdown",
   "id": "6a04a011",
   "metadata": {},
   "source": [
    "Answer:\n",
    "An empty dictionary is often represented by two empty curly brackets -\n",
    "d = {} or d = dict()"
   ]
  },
  {
   "cell_type": "markdown",
   "id": "4fde06eb",
   "metadata": {},
   "source": [
    "#### Ques 2. What is the value of a dictionary value with the key \"foo\" and the value 42?"
   ]
  },
  {
   "cell_type": "markdown",
   "id": "dc386be8",
   "metadata": {},
   "source": [
    "Answer:\n",
    "{'foo':42}"
   ]
  },
  {
   "cell_type": "markdown",
   "id": "4fb40458",
   "metadata": {},
   "source": [
    "#### Ques 3. What is the most significant distinction between a dictionary and a list?"
   ]
  },
  {
   "cell_type": "markdown",
   "id": "1b9e31ed",
   "metadata": {},
   "source": [
    "Answer:\n",
    "Dictionaries are represented by {} where as listed are represented by [].\n",
    "The Items stored in a dictionary are Unordered , while the items in a list are ordered."
   ]
  },
  {
   "cell_type": "markdown",
   "id": "783a5cea",
   "metadata": {},
   "source": [
    "#### Ques 4. What happens if you try to access spam[\"foo\"] if spam is {\"bar\": 100}?"
   ]
  },
  {
   "cell_type": "markdown",
   "id": "385895d4",
   "metadata": {},
   "source": [
    "Answer:\n",
    "We will get a keyError KeyError: 'foo'."
   ]
  },
  {
   "cell_type": "markdown",
   "id": "14969fcc",
   "metadata": {},
   "source": [
    "#### Ques 5. If a dictionary is stored in spam, what is the difference between the expressions \"cat\" in spam and \"cat\" in spam.keys()?"
   ]
  },
  {
   "cell_type": "markdown",
   "id": "9e9f10bd",
   "metadata": {},
   "source": [
    "Answer:\n",
    "There is no difference. The operator checks whether a value exits as a key in the dictionary or not."
   ]
  },
  {
   "cell_type": "markdown",
   "id": "a21e40de",
   "metadata": {},
   "source": [
    "#### Ques 6. If a dictionary is stored in spam, what is the difference between the expressions \"cat\" in spam and \"cat\" in spam.values()?"
   ]
  },
  {
   "cell_type": "markdown",
   "id": "42560950",
   "metadata": {},
   "source": [
    "Answer:\n",
    "'cat' in spam checks whether there is a 'cat' key in the dictionary, while 'cat' in spam.values() checks whether there is a value 'cat' for one of the keys in spam."
   ]
  },
  {
   "cell_type": "markdown",
   "id": "134e9ccf",
   "metadata": {},
   "source": [
    "#### Ques 7. What is a shortcut for the following code?"
   ]
  },
  {
   "cell_type": "code",
   "execution_count": null,
   "id": "fb84dd9b",
   "metadata": {},
   "outputs": [],
   "source": [
    "if \"color\" not in spam:\n",
    "    spam[\"color\"] = \"black\""
   ]
  },
  {
   "cell_type": "markdown",
   "id": "76ced037",
   "metadata": {},
   "source": [
    "Answer: \n",
    "spam.setdefault('color','black')"
   ]
  },
  {
   "cell_type": "markdown",
   "id": "0a7c045e",
   "metadata": {},
   "source": [
    "#### Ques 8. How do you \"pretty print\" dictionary values using which module and function?"
   ]
  },
  {
   "cell_type": "markdown",
   "id": "14a428c2",
   "metadata": {},
   "source": [
    "Answer:\n",
    "We can pretty print a dictionary using pprint() function."
   ]
  },
  {
   "cell_type": "code",
   "execution_count": 1,
   "id": "d6ef6cff",
   "metadata": {},
   "outputs": [
    {
     "name": "stdout",
     "output_type": "stream",
     "text": [
      "Printing using print() function \n",
      " [{'Name': 'Sameer', 'Age': '20', 'Course': 'Data Science'}, {'Name': 'Aman', 'Age': '18', 'Course': 'Biology'}, {'Name': 'Riddhi', 'Age': '19', 'Course': 'Mathematics'}, {'Name': 'Priyanshu', 'Age': '20', 'Course': 'Science'}]\n",
      "\n",
      "\n",
      "Printing using pprint() funciton\n",
      "[{'Age': '20', 'Course': 'Data Science', 'Name': 'Sameer'},\n",
      " {'Age': '18', 'Course': 'Biology', 'Name': 'Aman'},\n",
      " {'Age': '19', 'Course': 'Mathematics', 'Name': 'Riddhi'},\n",
      " {'Age': '20', 'Course': 'Science', 'Name': 'Priyanshu'}]\n",
      "----------------------------------------------------------------------\n"
     ]
    }
   ],
   "source": [
    "dict_ = [{'Name': 'Sameer', 'Age': '20', 'Course': \"Data Science\"},\n",
    "  {'Name': 'Aman', 'Age': '18', 'Course': \"Biology\"},\n",
    "  {'Name': 'Riddhi', 'Age': '19', 'Course': \"Mathematics\"},\n",
    "  {'Name': 'Priyanshu', 'Age': '20', 'Course': \"Science\"}]\n",
    "\n",
    "print('Printing using print() function \\n',dict_)\n",
    "print('\\n')\n",
    "\n",
    "import pprint\n",
    "print('Printing using pprint() funciton')\n",
    "pprint.pprint(dict_)\n",
    "print('-'*70)"
   ]
  }
 ],
 "metadata": {
  "kernelspec": {
   "display_name": "Python 3 (ipykernel)",
   "language": "python",
   "name": "python3"
  },
  "language_info": {
   "codemirror_mode": {
    "name": "ipython",
    "version": 3
   },
   "file_extension": ".py",
   "mimetype": "text/x-python",
   "name": "python",
   "nbconvert_exporter": "python",
   "pygments_lexer": "ipython3",
   "version": "3.9.12"
  }
 },
 "nbformat": 4,
 "nbformat_minor": 5
}
