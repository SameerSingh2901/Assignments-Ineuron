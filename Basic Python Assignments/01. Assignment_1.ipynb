{
 "cells": [
  {
   "cell_type": "markdown",
   "id": "c9dca41f",
   "metadata": {},
   "source": [
    "#### Ques 1. In the below elements which of them are values or an expression? eg:- values can be integer or string and expressions will be mathematical operators.\n",
    "\n",
    "- *\n",
    "- \"hello\"\n",
    "- -87.8\n",
    "- -\n",
    "- /\n",
    "- +\n",
    "- 6"
   ]
  },
  {
   "cell_type": "markdown",
   "id": "0c40864d",
   "metadata": {},
   "source": [
    "##### Answer:\n",
    "\n",
    "In the given elements only ‘hello’, -87.8 and 6 are values and other elements like *, -, / and + are the expressions which will perform arithmetic operations."
   ]
  },
  {
   "cell_type": "markdown",
   "id": "56ffc5d2",
   "metadata": {},
   "source": [
    "#### Ques 2. What is the difference between string and variable?"
   ]
  },
  {
   "cell_type": "markdown",
   "id": "9c69a528",
   "metadata": {},
   "source": [
    "##### Answer:\n",
    "    \n",
    "Variables are like the container which we use to store data. \n",
    "\n",
    "For example, in: data = “my name is Sameer”, here – data is the variable which will store the data – “my name is Sameer”.\n",
    "\n",
    "String is a type of data which can contain any character or special character which can be stored in a variable."
   ]
  },
  {
   "cell_type": "markdown",
   "id": "639d4da8",
   "metadata": {},
   "source": [
    "#### Ques 3. Describe three different data types."
   ]
  },
  {
   "cell_type": "markdown",
   "id": "9abe1117",
   "metadata": {},
   "source": [
    "##### Answer:\n",
    "\n",
    "Integer – int or integer is a numeric data type in python. It is a whole number (positive or negative) without decimal. We can convert any numeric value in int using int() function in python. Example – 1, 2, 48, 28, 233.\n",
    "\n",
    "\n",
    "Float – float is also a numeric data type. It can contain any numeric data, positive or negative which can also contain any number of decimal values. We can convert any numeric value in float using float() function in python. Example – 28.0, 27.873, 27.082.\n",
    "\n",
    "String – string is a text type data type in python. It can store any value in it from alphabets to numbers and special characters too. Everything in a string is treated as a character in python. Example – “sam”, “19ksh@#$”, “sameer1111”."
   ]
  },
  {
   "cell_type": "markdown",
   "id": "381ea057",
   "metadata": {},
   "source": [
    "#### Ques 4. What is an expression made up of? What do all expressions do?"
   ]
  },
  {
   "cell_type": "markdown",
   "id": "5f6fb87d",
   "metadata": {},
   "source": [
    "##### Answer:\n",
    "    \n",
    "An expression is a combination of values, variables, operators, and calls to functions. Expressions need to be evaluated. If you ask Python to print an expression, the interpreter evaluates the expression and displays the result. An Expression always evaluates (calculate) to itself. A value or a variable all by itself is also considered an expression, because these always evaluates to itself.\n",
    "\n",
    "For example, = 4 + 2, 4*3, +, /, - etc. (arithmetic expressions)\n"
   ]
  },
  {
   "cell_type": "markdown",
   "id": "a67886c9",
   "metadata": {},
   "source": [
    "#### Ques 5. This assignment statements, like spam = 10. What is the difference between an expression and a statement?"
   ]
  },
  {
   "cell_type": "markdown",
   "id": "b5d5034d",
   "metadata": {},
   "source": [
    "##### Answer\n",
    "\n",
    "Difference between expression and statement:\n",
    "\n",
    "1)\tAn expression evaluates to a value. A statement executes something.\n",
    "\n",
    "2)\tThe evaluation of a statement does not change state. The execution of a statement changes state.4\n",
    "\n",
    "3)\tEvaluation of an expression always Produces or returns a result value. Execution of a statement may or may not produces or displays a result value, it only does whatever the statement says.\n",
    "\n",
    "4)\tEvery expression can’t be a statement. Every statement can be an expression."
   ]
  },
  {
   "cell_type": "markdown",
   "id": "3da25ceb",
   "metadata": {},
   "source": [
    "#### Ques 6. After running the following code, what does the variable bacon contain?\n",
    "\n",
    "bacon = 22\n",
    "\n",
    "bacon + 1"
   ]
  },
  {
   "cell_type": "markdown",
   "id": "b2a5de08",
   "metadata": {},
   "source": [
    "##### Answer:\n",
    "    \n",
    "After running the code:\n",
    "\n",
    "bacon = 22\n",
    "\n",
    "bacon + 1\n",
    "\n",
    "The output will be 23 as bacon will be treated as a int variable with value 22.\n",
    "But even after performing the addition the value of bacon does not change so it will be 22."
   ]
  },
  {
   "cell_type": "code",
   "execution_count": 1,
   "id": "3f15a08e",
   "metadata": {},
   "outputs": [
    {
     "data": {
      "text/plain": [
       "23"
      ]
     },
     "execution_count": 1,
     "metadata": {},
     "output_type": "execute_result"
    }
   ],
   "source": [
    "# Example:\n",
    "bacon = 22\n",
    "bacon +1"
   ]
  },
  {
   "cell_type": "markdown",
   "id": "46c45df5",
   "metadata": {},
   "source": [
    "#### Ques 7. What should the values of the following two terms be?\n",
    "&#39;spam&#39; + &#39;spamspam&#39;\n",
    "\n",
    "&#39;spam&#39; * 3"
   ]
  },
  {
   "cell_type": "markdown",
   "id": "e315f9b8",
   "metadata": {},
   "source": [
    "##### Answer:\n",
    "     \n",
    "Code 1:\n",
    "\n",
    "    'spam' + 'spamspam'\n",
    "\n",
    "Output:\n",
    "\n",
    "    ‘spamspamspam’\n",
    "\n",
    "This is because both right-hand side value and left-hand side value are treated as a string and python will add strings and provide the concatenated output.\n",
    "\n",
    "\n",
    "Code 2:\n",
    "\n",
    "    'spam' * 3\n",
    "\n",
    "Output:\n",
    "\n",
    "    ‘spamspamspam’\n",
    "\n",
    "This output is because of the same reason that ‘spam’ is treated as a string and by multiplying the string by 3 it will be ‘spamspamspam’."
   ]
  },
  {
   "cell_type": "code",
   "execution_count": 2,
   "id": "7db38e6c",
   "metadata": {},
   "outputs": [
    {
     "name": "stdout",
     "output_type": "stream",
     "text": [
      "spamspamspam\n",
      "spamspamspam\n"
     ]
    }
   ],
   "source": [
    "# Example:\n",
    "\n",
    "print(\"spam\" + \"spamspam\")\n",
    "\n",
    "print(\"spam\"*3)"
   ]
  },
  {
   "cell_type": "markdown",
   "id": "5ba6279b",
   "metadata": {},
   "source": [
    "#### Ques 8. Why is eggs a valid variable name while 100 is invalid?"
   ]
  },
  {
   "cell_type": "markdown",
   "id": "9abd3524",
   "metadata": {},
   "source": [
    "##### Answer:\n",
    "    \n",
    "There are some rules that are given in python to name a variable and according to it a variable name cannot start with a number. Due to these eggs is a valid variable name because it starts with character but 100 is invalid cause it is starts with number."
   ]
  },
  {
   "cell_type": "markdown",
   "id": "34185734",
   "metadata": {},
   "source": [
    "#### Ques 9. What three functions can be used to get the integer, floating-point number, or string version of a value?"
   ]
  },
  {
   "cell_type": "markdown",
   "id": "dc375898",
   "metadata": {},
   "source": [
    "##### Answer:\n",
    "    \n",
    "For making a value to be converted in integer we can use int() function, for making a value to be converted in floating number we can use float() function and for making a value string we can use str() function."
   ]
  },
  {
   "cell_type": "markdown",
   "id": "bbc68e37",
   "metadata": {},
   "source": [
    "#### Ques 10. Why does this expression cause an error? How can you fix it?\n",
    "&#39;I have eaten &#39; + 99 + &#39; burritos.&#39;"
   ]
  },
  {
   "cell_type": "markdown",
   "id": "761cae61",
   "metadata": {},
   "source": [
    "##### Answer:\n",
    "\n",
    "The given expression: 'I have eaten ' + 99 + ' burritos.' is wrong because we are doing addition between string values and integer values which is not allowed in python.\n",
    "\n",
    "To fix this expression we can convert 99 to string by using str() function or by just writing 99 as ‘99’. \n",
    "\n",
    "Example:\n",
    "- 'I have eaten ' + str(99) + ' burritos.'\n",
    "- 'I have eaten ' + '99' + ' burritos.'\n"
   ]
  }
 ],
 "metadata": {
  "kernelspec": {
   "display_name": "Python 3 (ipykernel)",
   "language": "python",
   "name": "python3"
  },
  "language_info": {
   "codemirror_mode": {
    "name": "ipython",
    "version": 3
   },
   "file_extension": ".py",
   "mimetype": "text/x-python",
   "name": "python",
   "nbconvert_exporter": "python",
   "pygments_lexer": "ipython3",
   "version": "3.9.12"
  }
 },
 "nbformat": 4,
 "nbformat_minor": 5
}
