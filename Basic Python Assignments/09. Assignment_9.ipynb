{
 "cells": [
  {
   "cell_type": "markdown",
   "id": "e13d49f5",
   "metadata": {},
   "source": [
    "#### Ques 1. To what does a relative path refer?"
   ]
  },
  {
   "cell_type": "markdown",
   "id": "2d571eb3",
   "metadata": {},
   "source": [
    "Answer: \n",
    "\n",
    "The relative path is the path to some file with respect to your current working directory (PWD).\n",
    "\n",
    "For example: If Absolute path to a file called stuff.txt is: C:/users/admin/docs/my_file.txt. If my PWD is C:/users/admin/ , then the relative path to my_file.txt would be: docs/my_file.txt\n",
    "\n",
    "Note: PWD + relative path = absolute path"
   ]
  },
  {
   "cell_type": "markdown",
   "id": "d671dec6",
   "metadata": {},
   "source": [
    "#### Ques 2. What does an absolute path start with your operating system?"
   ]
  },
  {
   "cell_type": "markdown",
   "id": "e340d059",
   "metadata": {},
   "source": [
    "Answer: \n",
    "\n",
    "In Linux based systems the absolute path starts with /. Where as in Windows based systems absolute path starts with C:."
   ]
  },
  {
   "cell_type": "markdown",
   "id": "fce2fbd5",
   "metadata": {},
   "source": [
    "#### Ques 3. What do the functions os.getcwd() and os.chdir() do?"
   ]
  },
  {
   "cell_type": "markdown",
   "id": "cc873e82",
   "metadata": {},
   "source": [
    "Answer: \n",
    "\n",
    "os.getcwd() method tells us the location of current working directory (CWD). Whereas os.chdir() method in Python used to change the current working directory to specified path. These functions are similar to linux commands pwd and cd."
   ]
  },
  {
   "cell_type": "markdown",
   "id": "8d60813a",
   "metadata": {},
   "source": [
    "#### Ques 4. What are the . and .. folders?"
   ]
  },
  {
   "cell_type": "markdown",
   "id": "d78b0734",
   "metadata": {},
   "source": [
    "Answer: \n",
    "\n",
    ". Represents the Current Directory. Whereas .. represents the Parent Directory of the Current Directory."
   ]
  },
  {
   "cell_type": "markdown",
   "id": "c1a0d42d",
   "metadata": {},
   "source": [
    "#### Ques 5. In C:\\bacon\\eggs\\spam.txt, which part is the dir name, and which part is the base name?"
   ]
  },
  {
   "cell_type": "markdown",
   "id": "ad642946",
   "metadata": {},
   "source": [
    "Answer: \n",
    "\n",
    "For C:\\bacon\\eggs\\spam.txt\n",
    "\n",
    "- The dir name is C:\\\\bacon\\\\eggs\n",
    "\n",
    "- The Base name is spam.txt"
   ]
  },
  {
   "cell_type": "markdown",
   "id": "9fd3a45e",
   "metadata": {},
   "source": [
    "#### Ques 6. What are the three “mode” arguments that can be passed to the open() function?"
   ]
  },
  {
   "cell_type": "markdown",
   "id": "5dec1c25",
   "metadata": {},
   "source": [
    "Answer: \n",
    "\n",
    "A file can be Accessed in python using open() function. open() function takes two arguments filename and mode of operation (optional). If mode is not provided the default mode of opening is read mode.\n",
    "\n",
    "So, the syntax being: open(filename, mode)\n",
    "\n",
    "- ‘r’ – Read Mode: This is the default mode for open(). The file is opened and a pointer is positioned at the beginning of the file’s content.\n",
    "- ‘w’ – Write Mode: Using this mode will overwrite any existing content in a file. If the given file does not exist, a new one will be created.\n",
    "- ‘x’ – Exclusive Creating Mode: This mode is for the sole purpose of creating new files. Use this mode if you know the file to be written doesn’t exist beforehand."
   ]
  },
  {
   "cell_type": "markdown",
   "id": "ae26dbae",
   "metadata": {},
   "source": [
    "#### Ques 7. What happens if an existing file is opened in write mode?"
   ]
  },
  {
   "cell_type": "markdown",
   "id": "bfa9ff4c",
   "metadata": {},
   "source": [
    "Answer: \n",
    "\n",
    "Using this mode will overwrite any existing content in a file. If the given file does not exist, a new one will be created."
   ]
  },
  {
   "cell_type": "markdown",
   "id": "9942f802",
   "metadata": {},
   "source": [
    "#### Ques 8. How do you tell the difference between read() and readlines()?"
   ]
  },
  {
   "cell_type": "markdown",
   "id": "3b971964",
   "metadata": {},
   "source": [
    "Answer:\n",
    "\n",
    "The main difference is that read() will read the whole file at once and then print out the first characters that take up as many bytes as you specify in the parenthesis. The read() would treat each character in the file separately, meaning that the iteration would happen for every character.\n",
    "\n",
    "Whereas the readline() that will read and print out only the first characters that take up as many bytes as you specify in the parenthesis. You may want to use readline() when you're reading files that are too big for your RAM.\n",
    "The readline() function, on the other hand, only reads a single line of the file. This means that if the first line of the file were three lines long, the readline() function would only parse (or iterate/operate) on the first line of the file."
   ]
  },
  {
   "cell_type": "markdown",
   "id": "72fd0201",
   "metadata": {},
   "source": [
    "#### Ques 9. What data structure does a shelf value resemble?"
   ]
  },
  {
   "cell_type": "markdown",
   "id": "7325c511",
   "metadata": {},
   "source": [
    "Answer: \n",
    "\n",
    "It contains key and values it represents dictionary."
   ]
  }
 ],
 "metadata": {
  "kernelspec": {
   "display_name": "Python 3 (ipykernel)",
   "language": "python",
   "name": "python3"
  },
  "language_info": {
   "codemirror_mode": {
    "name": "ipython",
    "version": 3
   },
   "file_extension": ".py",
   "mimetype": "text/x-python",
   "name": "python",
   "nbconvert_exporter": "python",
   "pygments_lexer": "ipython3",
   "version": "3.9.12"
  }
 },
 "nbformat": 4,
 "nbformat_minor": 5
}
