{
 "cells": [
  {
   "cell_type": "markdown",
   "id": "ea1aa798",
   "metadata": {},
   "source": [
    "#### Q1. Compare and contrast the float and Decimal classes&#39; benefits and drawbacks."
   ]
  },
  {
   "cell_type": "markdown",
   "id": "4deb9de2",
   "metadata": {},
   "source": [
    "##### Answer:\n",
    "\n",
    "Both the `float` and `decimal` types store numerical values in Python.\n",
    "\n",
    "Use `floats` when convenience and speed matter. A float gives you an approximation of the number you declare.\n",
    "\n",
    "Use `decimals` when precision matters. `Decimals` can suffer from their own precision issues, but generally, `decimals` are more precise than `floats`. The performance difference between `float` and `decimal`, with Python 3, is not outlandish, and in my experience, the precision benefits of a `decimal` outweigh the performance benefits of a `float`."
   ]
  },
  {
   "cell_type": "markdown",
   "id": "005018f0",
   "metadata": {},
   "source": [
    "#### Q2. Decimal(&#39;1.200&#39;) and Decimal(&#39;1.2&#39;) are two objects to consider. In what sense are these the same object? Are these just two ways of representing the exact same value, or do they correspond to different internal states?"
   ]
  },
  {
   "cell_type": "markdown",
   "id": "40637e4c",
   "metadata": {},
   "source": [
    "##### Answer:\n",
    "\n",
    "Both values are same but internal representation at storage Is different. Precsion  differs, `Decimal('1.200')` gives internally  `1.200` and  `Decimal('1.2')` gives `1.2`."
   ]
  },
  {
   "cell_type": "markdown",
   "id": "299d0e85",
   "metadata": {},
   "source": [
    "#### Q3. What happens if the equality of Decimal(&#39;1.200&#39;) and Decimal(&#39;1.2&#39;) is checked?"
   ]
  },
  {
   "cell_type": "markdown",
   "id": "c015ac13",
   "metadata": {},
   "source": [
    "##### Answer:\n",
    "\n",
    "Both values are checked to be equal , they only differ in precision."
   ]
  },
  {
   "cell_type": "markdown",
   "id": "dffaac52",
   "metadata": {},
   "source": [
    "#### Q4. Why is it preferable to start a Decimal object with a string rather than a floating-point value?"
   ]
  },
  {
   "cell_type": "markdown",
   "id": "b88c8148",
   "metadata": {},
   "source": [
    "##### Answer:\n",
    "\n",
    "Floating-point value is converted to Decimal format. Decimal can store float value with absolute precision. But when float value is given as Decimal object,it first has to be converted from floating point value which might already have rounding error.\n",
    "\n",
    "Hence it is preferable to start a Decimal object with a string."
   ]
  },
  {
   "cell_type": "markdown",
   "id": "c9a5778f",
   "metadata": {},
   "source": [
    "#### Q5. In an arithmetic phrase, how simple is it to combine Decimal objects with integers?"
   ]
  },
  {
   "cell_type": "markdown",
   "id": "93055fff",
   "metadata": {},
   "source": [
    "##### Answer:\n",
    "\n",
    "We can do it with use of `Decimal()`."
   ]
  },
  {
   "cell_type": "markdown",
   "id": "1b6a80a3",
   "metadata": {},
   "source": [
    "#### Q6. Can Decimal objects and floating-point values be combined easily?"
   ]
  },
  {
   "cell_type": "markdown",
   "id": "4fd9ec2f",
   "metadata": {},
   "source": [
    "##### Answer:\n",
    "\n",
    "Arithmetic operfations like Adding,subtracting or multiplying a Decimal object by a floating-point value is generates an error.\n",
    "\n",
    "To do these operations, the floating point has to be converted to a Decimal."
   ]
  },
  {
   "cell_type": "markdown",
   "id": "8c867bc9",
   "metadata": {},
   "source": [
    "#### Q7. Using the Fraction class but not the Decimal class, give an example of a quantity that can be expressed with absolute precision."
   ]
  },
  {
   "cell_type": "markdown",
   "id": "08018dc6",
   "metadata": {},
   "source": [
    "##### Answer:\n",
    "\n",
    "Value of `0.5` will be represented as `½`."
   ]
  },
  {
   "cell_type": "markdown",
   "id": "0979390c",
   "metadata": {},
   "source": [
    "#### Q8. Describe a quantity that can be accurately expressed by the Decimal or Fraction classes but not by a floating-point value."
   ]
  },
  {
   "cell_type": "markdown",
   "id": "21607bd7",
   "metadata": {},
   "source": [
    "##### Answer:\n",
    "\n",
    "Both will be reduced to `1/2`"
   ]
  },
  {
   "cell_type": "markdown",
   "id": "e9468de8",
   "metadata": {},
   "source": [
    "#### Q9.Consider the following two fraction objects: Fraction(1, 2) and Fraction(1, 2). (5, 10). Is the internal state of these two objects the same? Why do you think that is?"
   ]
  },
  {
   "cell_type": "markdown",
   "id": "caa7a3e5",
   "metadata": {},
   "source": [
    "##### Answer:\n",
    "\n",
    "Fraction class and integer type(int) are related in form of a container.It contains two ints, one the numerator and the other the denominator."
   ]
  },
  {
   "cell_type": "markdown",
   "id": "fc417c6a",
   "metadata": {},
   "source": [
    "#### Q10. How do the Fraction class and the integer type (int) relate to each other? Containment or inheritance?"
   ]
  },
  {
   "cell_type": "markdown",
   "id": "b0aaa50c",
   "metadata": {},
   "source": [
    "##### Answer:\n",
    "\n",
    "Fraction class and the integer type (int) are not related through inheritance or containment. Instead, they are related through a concept known as **`\"type conversion\"`**."
   ]
  }
 ],
 "metadata": {
  "kernelspec": {
   "display_name": "Python 3 (ipykernel)",
   "language": "python",
   "name": "python3"
  },
  "language_info": {
   "codemirror_mode": {
    "name": "ipython",
    "version": 3
   },
   "file_extension": ".py",
   "mimetype": "text/x-python",
   "name": "python",
   "nbconvert_exporter": "python",
   "pygments_lexer": "ipython3",
   "version": "3.9.12"
  }
 },
 "nbformat": 4,
 "nbformat_minor": 5
}
